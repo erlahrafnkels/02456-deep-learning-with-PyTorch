{
 "cells": [
  {
   "cell_type": "markdown",
   "metadata": {
    "id": "HAva8TnYFtFu"
   },
   "source": [
    "# Contents and why we need this lab\n",
    "\n",
    "This lab is about implementing neural networks yourself before we start using other frameworks which hide some of the computation from you. It builds on the first lab where you derived the equations for neural network forward and backward propagation and gradient descent parameter updates. \n",
    "\n",
    "All the frameworks for deep learning you will meet from now on uses automatic differentiation (autodiff) so you don't have to code the backward step yourself. In this version of this lab you will develop your own autodif implementation. We also have a [version](https://github.com/DeepLearningDTU/02456-deep-learning-with-PyTorch/blob/master/2_Feedforward_NumPy/2.1-FNN-NumPy.ipynb) of this lab where you have to code the backward pass explicitly in Numpy."
   ]
  },
  {
   "cell_type": "markdown",
   "metadata": {
    "id": "sCa7HzwpFtFy"
   },
   "source": [
    "# External sources of information\n",
    "\n",
    "1. Jupyter notebook. You can find more information about Jupyter notebooks [here](https://jupyter.org/). It will come as part of the [Anaconda](https://www.anaconda.com/) Python installation. \n",
    "2. [NumPy](https://numpy.org/). Part of Anaconda distribution. If you already know how to program most things about Python and NumPy can be found through Google search.\n",
    "3. [Nanograd](https://github.com/rasmusbergpalm/nanograd) is a minimalistic version of autodiff developed by Rasmus Berg Palm that we use for our framework.\n"
   ]
  },
  {
   "cell_type": "markdown",
   "metadata": {
    "id": "1SjiIp-TFtF0"
   },
   "source": [
    "# This notebook will follow the next steps:\n",
    "\n",
    "1. Nanograd automatic differentiation framework\n",
    "2. Finite difference method\n",
    "3. Data generation\n",
    "4. Defining and initializing the network\n",
    "5. Forward pass\n",
    "6. Training loop \n",
    "7. Testing your model\n",
    "8. Further extensions"
   ]
  },
  {
   "cell_type": "markdown",
   "metadata": {},
   "source": [
    "<font color=\"blue\"> **Comment:** Hi! I didn't manage to finish everything in this lab :( However, please check all sections, since I might have some things missing in between but answers there below."
   ]
  },
  {
   "cell_type": "markdown",
   "metadata": {
    "id": "OyXeAA-HuT7s"
   },
   "source": [
    "# Nanograd automatic differention framework"
   ]
  },
  {
   "cell_type": "markdown",
   "metadata": {
    "id": "k6UWKCLKubgA"
   },
   "source": [
    "The [Nanograd](https://github.com/rasmusbergpalm/nanograd) framework defines a class Var which both holds a value and gradient value that we can use to store the intermediate values when we apply the chain rule of differentiation."
   ]
  },
  {
   "cell_type": "code",
   "execution_count": 208,
   "metadata": {
    "id": "Jd4CoEBNzNWS"
   },
   "outputs": [],
   "source": [
    "# Copy and pasted from https://github.com/rasmusbergpalm/nanograd/blob/main/nanograd.py\n",
    "\n",
    "from math import exp, log, tanh\n",
    "\n",
    "class Var:\n",
    "    \"\"\"\n",
    "    A variable which holds a float and enables gradient computations.\n",
    "    \"\"\"\n",
    "\n",
    "    def __init__(self, val: float, grad_fn=lambda: []):\n",
    "        assert type(val) == float\n",
    "        self.v = val\n",
    "        self.grad_fn = grad_fn\n",
    "        self.grad = 0.0\n",
    "\n",
    "    def backprop(self, bp):\n",
    "        self.grad += bp\n",
    "        for input, grad in self.grad_fn():\n",
    "            input.backprop(grad * bp)\n",
    "\n",
    "    def backward(self):\n",
    "        self.backprop(1.0)\n",
    "\n",
    "    def __add__(self: 'Var', other: 'Var') -> 'Var':\n",
    "        return Var(self.v + other.v, lambda: [(self, 1.0), (other, 1.0)])\n",
    "\n",
    "    def __mul__(self: 'Var', other: 'Var') -> 'Var':\n",
    "        return Var(self.v * other.v, lambda: [(self, other.v), (other, self.v)])\n",
    "\n",
    "    def __pow__(self, power):\n",
    "        assert type(power) in {float, int}, \"power must be float or int\"\n",
    "        return Var(self.v ** power, lambda: [(self, power * self.v ** (power - 1))])\n",
    "\n",
    "    def __neg__(self: 'Var') -> 'Var':\n",
    "        return Var(-1.0) * self\n",
    "\n",
    "    def __sub__(self: 'Var', other: 'Var') -> 'Var':\n",
    "        return self + (-other)\n",
    "\n",
    "    def __truediv__(self: 'Var', other: 'Var') -> 'Var':\n",
    "        return self * other ** -1\n",
    "\n",
    "    def __repr__(self):\n",
    "        return \"Var(v=%.4f, grad=%.4f)\" % (self.v, self.grad)\n",
    "\n",
    "    def relu(self):\n",
    "        return Var(self.v if self.v > 0.0 else 0.0, lambda: [(self, 1.0 if self.v > 0.0 else 0.0)])\n",
    "    \n",
    "    def identity(self):\n",
    "        return self\n",
    "    \n",
    "    def tanh(self):\n",
    "        return Var(tanh(self.v), [(self, 1 - tanh(self.v) ** 2)])\n",
    "    \n",
    "    def sigmoid(self):\n",
    "        return Var((1 + exp(-1.0 * self.v)) ** -1, [self, (1 + exp(-1.0 * self.v)) ** -1 * (1 - (1 + exp(-1.0 * self.v)) ** -1)])"
   ]
  },
  {
   "cell_type": "markdown",
   "metadata": {
    "id": "yDX67D6jzcte"
   },
   "source": [
    "A few examples illustrate how we can use this:"
   ]
  },
  {
   "cell_type": "code",
   "execution_count": 264,
   "metadata": {
    "colab": {
     "base_uri": "https://localhost:8080/"
    },
    "id": "xk6PeLc3zwPT",
    "outputId": "1e8c6d68-749a-44c3-8fce-0029dcc3215b"
   },
   "outputs": [
    {
     "name": "stdout",
     "output_type": "stream",
     "text": [
      "Var(v=3.0000, grad=5.0000)\n",
      "Var(v=5.0000, grad=3.0000)\n",
      "Var(v=15.0000, grad=1.0000)\n"
     ]
    }
   ],
   "source": [
    "a = Var(3.0)\n",
    "b = Var(5.0)\n",
    "f = a * b\n",
    "\n",
    "f.backward()\n",
    "\n",
    "for v in [a, b, f]:\n",
    "    print(v)"
   ]
  },
  {
   "cell_type": "code",
   "execution_count": 265,
   "metadata": {
    "colab": {
     "base_uri": "https://localhost:8080/"
    },
    "id": "JmKhYgsY0g_o",
    "outputId": "d86771b7-4166-40a5-8b35-8a46a5d7b1e9"
   },
   "outputs": [
    {
     "name": "stdout",
     "output_type": "stream",
     "text": [
      "Var(v=3.0000, grad=14.0000)\n",
      "Var(v=5.0000, grad=3.0000)\n",
      "Var(v=15.0000, grad=1.0000)\n",
      "Var(v=9.0000, grad=3.0000)\n",
      "Var(v=27.0000, grad=1.0000)\n",
      "Var(v=42.0000, grad=1.0000)\n"
     ]
    }
   ],
   "source": [
    "a = Var(3.0)\n",
    "b = Var(5.0)\n",
    "c = a * b\n",
    "d = Var(9.0)\n",
    "e = a * d\n",
    "f = c + e\n",
    "\n",
    "f.backward()\n",
    "\n",
    "for v in [a, b, c, d, e, f]:\n",
    "    print(v)"
   ]
  },
  {
   "cell_type": "markdown",
   "metadata": {
    "id": "Fe3B6uEH140p"
   },
   "source": [
    "## Exercise a) What is being calculated?\n",
    "\n",
    "Explain briefly the output of the code? What is the expression we differentiate and with respect to what variables?\n",
    "\n",
    "<font color = \"blue\"> **Solution:** </font> The output of the code shows us the value of each variable, `v`, as well as the value of the gradient of that variable, `grad`. The expression that we differentiate is `f` or the variable on which we call `.backward()`. We build the function `f` with each variable, forward from inputs to output, and then work our way backwards and differentiate `f` with regards to each variable it consists of (including itself).\n",
    "\n",
    "<font color=\"red\"> **Answer from peergrade submission 1:** Each operation done on a Var instance creates a new Var instance with a non-empty list grad_fn. This list contains tuples of (input, grad) pairs, where each affected input is stored along with the derivative modifier that corresponds to the operation. When the backward() method is called, the backprop() method is activated, which recursively computes and changes the Var.grad for the input instances in each tuple in the grad_fn list."
   ]
  },
  {
   "cell_type": "markdown",
   "metadata": {
    "id": "q8_Q0t2I3Ruj"
   },
   "source": [
    "## Exercise b) How does the backward function work?\n",
    "\n",
    "For the first example above, execute the backward function by hand to convince yourself that it indeed calculates the gradients with respect to the variables. Write down the sequence of calls to backprop for the first example above. \n",
    "\n",
    "<font color = \"blue\"> **Solution:** </font> The first example above is set up like this:\n",
    "```\n",
    "a = Var(3.0)\n",
    "b = Var(5.0)\n",
    "f = a * b\n",
    "f.backward()\n",
    "```\n",
    "Walking through the procedure:\n",
    "* First, we initiate `a`. \n",
    "* Next we initiate `b`. \n",
    "* Then we multiply those two variables. \n",
    "* After that, we can initiate `f`. Our whole function is ready.\n",
    "* Then, we call `f.backward()`.\n",
    "    * Backpropagation 1: Differentiate `f` w.r.t. `f`. `grad = 1.0`.\n",
    "    * Backpropagation 2: Differentiate `f` w.r.t. `b`. `grad = 3.0` as a result of the `__mul__` function.\n",
    "    * Backpropagation 3: Differentiate `f` w.r.t. `a`. `grad = 5.0` as a result of the `__mul__` function.\n",
    "\n",
    "Mathematical differentations:\n",
    "\n",
    "* Differentation with regards to $f$, which gives us `Var(v=15.0000, grad=1.0000)`:\n",
    "\n",
    "$$\n",
    "\\begin{align}\n",
    "\\texttt{v} &= f = a \\cdot b = 3 \\cdot 5 = 15 \\\\\n",
    "\\texttt{grad} &= \\frac{\\partial f}{\\partial f} = 1\n",
    "\\end{align}\n",
    "$$\n",
    "\n",
    "* Differentation with regards to $b$, which gives us `Var(v=5.0000, grad=3.0000)`:\n",
    "\n",
    "$$\n",
    "\\begin{align}\n",
    "\\texttt{v} &= b = 5 \\\\\n",
    "\\texttt{grad} &= \\frac{\\partial f}{\\partial b} = \\frac{\\partial}{\\partial b} (a \\cdot b) = a = 3\n",
    "\\end{align}\n",
    "$$\n",
    "\n",
    "* Differentation with regards to $a$, which gives us `Var(v=3.0000, grad=5.0000)`:\n",
    "\n",
    "$$\n",
    "\\begin{align}\n",
    "\\texttt{v} &= a = 3 \\\\\n",
    "\\texttt{grad} &= \\frac{\\partial f}{\\partial a} = \\frac{\\partial}{\\partial a} (a \\cdot b) = b = 5\n",
    "\\end{align}\n",
    "$$\n",
    "\n",
    "<font color=\"red\"> **Answer from peergrade submission 1:**"
   ]
  },
  {
   "cell_type": "code",
   "execution_count": null,
   "metadata": {},
   "outputs": [],
   "source": [
    "a = Var(3.0) # variable a with value=3 and grad=0 is defined\n",
    "b = Var(5.0) # variable b with value=5 and grad=0 is defined\n",
    "f = a * b\n",
    "# variable f is a new instance of Var with value: Var.v = a.v * b.v = 3 * 5 = 15 and grad=0\n",
    "# Meanwhile, the operation is saved in f.grad_fn as 2 tuples, one where a is input and the grad value is b.v\n",
    "# and one where b is input and the grad value is a.v\n",
    "# The grad value is the value of the instance that is not the input, since df/da=b.v, and df/db=a.v, for this operation\n",
    "\n",
    "f.backward()\n",
    "# The backward() method calls the backprop() method with an input parameter bp of 1.0\n",
    "# The backprop() method increments Var.grad with the input parameter bp,\n",
    "# and then loops through the grad_fn list, recursively calling backprop() on each input\n",
    "# and giving the saved grad value multiplied with bp and the new bp\n",
    "# This way, all numeric values of partial derivatives are efficiently calculated\n",
    "# The formal descriptions of the partial derivatives are lost (which doesn't matter)\n",
    "# and only the actual numerical values is stored so everything is computed quickly."
   ]
  },
  {
   "cell_type": "markdown",
   "metadata": {
    "id": "A5oi21W4gpeM"
   },
   "source": [
    "## Exercise c) What happens if we run backward again?\n",
    "\n",
    "Try to execute the code below. Explain what happens."
   ]
  },
  {
   "cell_type": "code",
   "execution_count": 266,
   "metadata": {
    "colab": {
     "base_uri": "https://localhost:8080/"
    },
    "id": "DCtpJyr-gyX1",
    "outputId": "86d38af1-1c6e-487b-f4e6-bf29f0bb105e"
   },
   "outputs": [
    {
     "name": "stdout",
     "output_type": "stream",
     "text": [
      "Var(v=3.0000, grad=28.0000)\n",
      "Var(v=5.0000, grad=6.0000)\n",
      "Var(v=15.0000, grad=2.0000)\n",
      "Var(v=9.0000, grad=6.0000)\n",
      "Var(v=27.0000, grad=2.0000)\n",
      "Var(v=42.0000, grad=2.0000)\n"
     ]
    }
   ],
   "source": [
    "f.backward()\n",
    "\n",
    "for v in [a, b, c, d, e, f]:\n",
    "    print(v)"
   ]
  },
  {
   "cell_type": "markdown",
   "metadata": {},
   "source": [
    "<font color = \"blue\"> **Solution:** </font> *The gradient value doubles for each variable.* When we first run `f.backward()`, we run `self.backprop(1.0)`, i.e. with `bp = 1.0`. The gradient then (for `f`) becomes `grad = 0.0 + 1.0 = 1.0` and so on, with each variable initiated with `grad = 0.0`. When we run `backward()` again, the first run where we calculate the gradient of `f` results in `grad = 2.0`, because  `grad = 1.0` from the previous run and `bp = 1.0` again. This, as well as the other calculated variables `c` and `e` having now `grad = 2.0`, results in the base variables `a`, `b` and `d` having double their previous gradient values.\n",
    "\n",
    "This can also be seen if we try to run it again and again - the gradients for `f`, `c` and `e` always increase by one and the other gradients are then multiplied by the ever increasing values of those gradients.\n",
    "\n",
    "<font color=\"red\"> **Answer from peergrade submission 1:** Before the function call, we have f.v=42, f.grad = 1\n",
    "\n",
    "f.backward() calls f.backprop(1.0) which first increments f.grad with 1\n",
    "\n",
    "f.grad_fn is a list of 2 tuples:\n",
    "tuple 1: (c, 1.0)\n",
    "tuple 2: (e, 1.0)\n",
    "The 1.0 values are from the addition method.\n",
    "\n",
    "For each tuple (in_1,bp_1) in f.grad_fn, the backprop() method is called:\n",
    "in_1.backprop(bp_1*bp) meaning backprop is called on both c and e with 1.0*1.0=1.0 as input parameter.\n",
    "\n",
    "This recursively activates grad_fn of c and e, which both have multiplication as their origin, and therefore each have 2 tuples with the general form of:\n",
    "tuple 1: (var1, var2.v)\n",
    "tuple 2: (var2, var1.v)\n",
    "\n",
    "Meaning var1 and var2 will both have their backprop() method activated for both c and e, and they will all have an input parameter of 1.0*varOther.v\n",
    "\n",
    "a is present in both calculations of c and e, so it's backprop method is called 2 times, meaning its .grad attribute is modified  both by b.v (in the computation of c), and by d.v (in the computation of e).\n"
   ]
  },
  {
   "cell_type": "markdown",
   "metadata": {
    "id": "e8bPVq2VhsP-"
   },
   "source": [
    "## Exercise d) Zero gradient\n",
    "\n",
    "We can zero the gradient by backpropagating a -1.0 as is shown in the example below. (If you have run backward multiple time then you also have to run the cell below an equal amount of times.) Explain what is going."
   ]
  },
  {
   "cell_type": "code",
   "execution_count": 268,
   "metadata": {
    "colab": {
     "base_uri": "https://localhost:8080/"
    },
    "id": "OnyPDQx9lJe0",
    "outputId": "0b86a0c1-3dc7-4f72-e661-649fa7b53c3a"
   },
   "outputs": [
    {
     "name": "stdout",
     "output_type": "stream",
     "text": [
      "Var(v=2.0000, grad=0.0000)\n",
      "Var(v=5.0000, grad=3.0000)\n",
      "Var(v=15.0000, grad=1.0000)\n",
      "Var(v=9.0000, grad=3.0000)\n",
      "Var(v=27.0000, grad=1.0000)\n",
      "Var(v=42.0000, grad=1.0000)\n",
      "Var(v=2.0000, grad=0.0000)\n",
      "Var(v=5.0000, grad=0.0000)\n",
      "Var(v=15.0000, grad=0.0000)\n",
      "Var(v=9.0000, grad=0.0000)\n",
      "Var(v=27.0000, grad=0.0000)\n",
      "Var(v=42.0000, grad=0.0000)\n"
     ]
    }
   ],
   "source": [
    "a = Var(2.0)\n",
    "\n",
    "for v in [a, b, c, d, e, f]:\n",
    "    print(v)\n",
    "\n",
    "f.backprop(-1.0)\n",
    "\n",
    "for v in [a, b, c, d, e, f]:\n",
    "    print(v)"
   ]
  },
  {
   "cell_type": "markdown",
   "metadata": {},
   "source": [
    "<font color = \"blue\"> **Solution:** </font> .........\n",
    "\n",
    "<font color=\"red\"> **Answer from peergrade submission 1:** The increment on the original Var activating backprop() goes back by -1, and all following recursive activations receive a negative input as long as the .grad attribute has a positive value since they are multiplied in the input of the recursive activation."
   ]
  },
  {
   "cell_type": "markdown",
   "metadata": {
    "id": "U4057_ljNvWB"
   },
   "source": [
    "## Exercise e) Test correctness of derivatives with the finite difference method\n",
    "\n",
    "Write a small function that uses [the finite difference method](https://en.wikipedia.org/wiki/Finite_difference_method) to numerically test that backpropation implementation is working. In short we will use\n",
    "$$\n",
    "\\frac{\\partial f(a)}{\\partial a} \\approx \\frac{f(a+da)-f(a)}{da}\n",
    "$$\n",
    "for $da \\ll 1$.\n",
    "\n",
    "\n",
    "_Insert your code in the cell below._\n",
    "\n",
    "<font color = \"blue\"> **Solution:** </font>"
   ]
  },
  {
   "cell_type": "code",
   "execution_count": 213,
   "metadata": {
    "colab": {
     "base_uri": "https://localhost:8080/"
    },
    "id": "9TGil92lSXDN",
    "outputId": "4993ad11-b380-487c-bcf2-c29a12ef60e1"
   },
   "outputs": [
    {
     "name": "stdout",
     "output_type": "stream",
     "text": [
      "Var(v=12.0000, grad=5.0000)\n",
      "Var(v=5.0000, grad=12.0000)\n",
      "Var(v=60.0000, grad=1.0000)\n",
      "5.000018177270249\n"
     ]
    }
   ],
   "source": [
    "# Test function - try to change into other functions as well\n",
    "def test_function(a):\n",
    "    a = Var(a)\n",
    "    b = Var(5.0)\n",
    "    f = a * b\n",
    "    f.backward()\n",
    "    return a,b,f\n",
    "\n",
    "a = 12.0\n",
    "\n",
    "for v in test_function(a):\n",
    "    print(v)\n",
    "\n",
    "# Insert your finite difference code here\n",
    "def finite_difference(a, da = 1e-10):\n",
    "    \"\"\"\n",
    "    This function computes the finite difference.\n",
    "    \n",
    "    Input:\n",
    "    a:           The point for which we want to approx the derivative (float)\n",
    "    da:          The finite difference                                (float)\n",
    "    \n",
    "    Output:\n",
    "    finite_difference: numerical approximation to the derivative      (float) \n",
    "    \"\"\"\n",
    "\n",
    "    fa_da = test_function(a + da)[-1].v      # <- Insert correct expression - INSERTED\n",
    "    fa = test_function(a)[-1].v              # <- Insert correct expression - INSERTED\n",
    "\n",
    "    finite_difference = (fa_da - fa) / da\n",
    "    \n",
    "    return finite_difference\n",
    "\n",
    "print(finite_difference(a))"
   ]
  },
  {
   "cell_type": "markdown",
   "metadata": {},
   "source": [
    "We can see that the finite difference method gives results very close to the actual result."
   ]
  },
  {
   "cell_type": "markdown",
   "metadata": {
    "id": "6pZar5RKaUkg"
   },
   "source": [
    "# Create an artificial dataset to play with\n",
    "\n",
    "We create a non-linear 1d regression task. The generator supports various noise levels and it creates train, validation and test sets. You can modify it yourself if you want more or less challenging tasks."
   ]
  },
  {
   "cell_type": "code",
   "execution_count": 214,
   "metadata": {
    "id": "Y6yfMAQ8aduj"
   },
   "outputs": [],
   "source": [
    "import numpy as np\n",
    "import matplotlib.pyplot as plt\n",
    "\n",
    "np.random.seed(42)"
   ]
  },
  {
   "cell_type": "code",
   "execution_count": 215,
   "metadata": {
    "id": "4YabfD43ajNh"
   },
   "outputs": [],
   "source": [
    "def data_generator(noise=0.1, n_samples=300, D1=True):\n",
    "    # Create covariates and response variable\n",
    "    if D1:\n",
    "        X = np.linspace(-3, 3, num=n_samples).reshape(-1,1) # 1-D\n",
    "        np.random.shuffle(X)\n",
    "        y = np.random.normal((0.5*np.sin(X[:,0]*3) + X[:,0]), noise) # 1-D with trend\n",
    "    else:\n",
    "        X = np.random.multivariate_normal(np.zeros(3), noise*np.eye(3), size = n_samples) # 3-D\n",
    "        np.random.shuffle(X)    \n",
    "        y = np.sin(X[:,0]) - 5*(X[:,1]**2) + 0.5*X[:,2] # 3-D\n",
    "\n",
    "    # Stack them together vertically to split data set\n",
    "    data_set = np.vstack((X.T,y)).T\n",
    "    \n",
    "    train, validation, test = np.split(data_set, [int(0.35*n_samples), int(0.7*n_samples)], axis=0)\n",
    "    \n",
    "    # Standardization of the data, remember we do the standardization with the training set mean and standard deviation\n",
    "    train_mu = np.mean(train, axis=0)\n",
    "    train_sigma = np.std(train, axis=0)\n",
    "    \n",
    "    train = (train-train_mu)/train_sigma\n",
    "    validation = (validation-train_mu)/train_sigma\n",
    "    test = (test-train_mu)/train_sigma\n",
    "    \n",
    "    x_train, x_validation, x_test = train[:,:-1], validation[:,:-1], test[:,:-1]\n",
    "    y_train, y_validation, y_test = train[:,-1], validation[:,-1], test[:,-1]\n",
    "\n",
    "    return x_train, y_train,  x_validation, y_validation, x_test, y_test"
   ]
  },
  {
   "cell_type": "code",
   "execution_count": 216,
   "metadata": {
    "id": "u1oDngHLapIz"
   },
   "outputs": [],
   "source": [
    "D1 = True\n",
    "x_train, y_train,  x_validation, y_validation, x_test, y_test = data_generator(noise=0.5, D1=D1)"
   ]
  },
  {
   "cell_type": "code",
   "execution_count": 217,
   "metadata": {
    "colab": {
     "base_uri": "https://localhost:8080/",
     "height": 265
    },
    "id": "Ysfa3FsBavlm",
    "outputId": "26d5d03c-6c26-47ce-cbab-676c99c30b73"
   },
   "outputs": [
    {
     "data": {
      "image/png": "[encoded data removed]",
      "text/plain": [
       "<Figure size 432x288 with 1 Axes>"
      ]
     },
     "metadata": {
      "needs_background": "light"
     },
     "output_type": "display_data"
    }
   ],
   "source": [
    "if D1:\n",
    "    plt.scatter(x_train[:,0], y_train);\n",
    "    plt.scatter(x_validation[:,0], y_validation);\n",
    "    plt.scatter(x_test[:,0], y_test);\n",
    "else:\n",
    "    plt.scatter(x_train[:,1], y_train);\n",
    "    plt.scatter(x_validation[:,1], y_validation);\n",
    "    plt.scatter(x_test[:,1], y_test);\n",
    "plt.show()"
   ]
  },
  {
   "cell_type": "code",
   "execution_count": 218,
   "metadata": {
    "id": "zac2HHNlgbpm"
   },
   "outputs": [],
   "source": [
    "# convert from nparray to Var\n",
    "def nparray_to_Var(x):\n",
    "    if x.ndim==1:\n",
    "        y = [[Var(float(x[i]))] for i in range(x.shape[0])] # always work with list of list\n",
    "    else:\n",
    "        y = [[Var(float(x[i,j])) for j in range(x.shape[1])] for i in range(x.shape[0])]\n",
    "    return y\n",
    "   \n",
    "x_train = nparray_to_Var(x_train)\n",
    "y_train = nparray_to_Var(y_train)\n",
    "x_validation = nparray_to_Var(x_validation)\n",
    "y_validation = nparray_to_Var(y_validation)\n",
    "x_test = nparray_to_Var(x_test)\n",
    "y_test = nparray_to_Var(y_test)"
   ]
  },
  {
   "cell_type": "markdown",
   "metadata": {
    "id": "VbjrqcpVFtGe"
   },
   "source": [
    "# Defining and initializing the network\n",
    "\n",
    "The steps to create a feed forward neural network are the following:\n",
    "\n",
    "1. **Number of hidden layer and hidden units**. We have to define the number of hidden units in each layer. The number of features in X and the output dimensionality (the size of Y) are given but the numbers in between are set by the researcher. Remember that for each unit in each layer beside in the input has a bias term.\n",
    "2. **Activation functions** for each hidden layer. Each hidden layer in your list must have an activation function (it can also be the linear activation which is equivalent to identity function). The power of neural networks comes from non-linear activation functions that learn representations (features) from the data allowing us to learn from it. \n",
    "3. **Parameter initialization**. We will initialize the weights to have random values. This is done in practice by drawing pseudo random numbers from a Gaussian or uniform distribution. It turns out that for deeper models we have to be careful about how we scale the random numbers. This will be the topic of the exercise below. For now we will just use unit variance Gaussians.  \n",
    "\n",
    "In order to make life easier for ourselves we define a DenseLayer class that takes care of initialization and the forward pass. We can also extend it later with print and advanced initialization capabilities. For the latter we have introduced a Initializer class.\n",
    "\n",
    "Note that we use Sequence in the code below. A Sequence is an ordered list. This means the order we insert and access items are the same."
   ]
  },
  {
   "cell_type": "code",
   "execution_count": 219,
   "metadata": {
    "id": "ij_ieRsAt7Xt"
   },
   "outputs": [],
   "source": [
    "class Initializer:\n",
    "    \n",
    "    def init_weights(self, n_in, n_out):\n",
    "        raise NotImplementedError\n",
    "\n",
    "    def init_bias(self, n_out):\n",
    "        raise NotImplementedError"
   ]
  },
  {
   "cell_type": "code",
   "execution_count": 220,
   "metadata": {
    "id": "eb18N5phuIha"
   },
   "outputs": [],
   "source": [
    "import random\n",
    "\n",
    "class NormalInitializer(Initializer):\n",
    "\n",
    "    def __init__(self, mean=0, std=0.1):\n",
    "        self.mean = mean\n",
    "        self.std = std\n",
    "\n",
    "    def init_weights(self, n_in, n_out):\n",
    "        return [[Var(random.gauss(self.mean, self.std)) for _ in range(n_out)] for _ in range(n_in)]\n",
    "\n",
    "    def init_bias(self, n_out):\n",
    "        return [Var(0.0) for _ in range(n_out)]\n",
    "\n",
    "class ConstantInitializer(Initializer):\n",
    "\n",
    "    def __init__(self, weight=1.0, bias=0.0):\n",
    "        self.weight = weight\n",
    "        self.bias = bias\n",
    "\n",
    "    def init_weights(self, n_in, n_out):\n",
    "        return [[Var(self.weight) for _ in range(n_out)] for _ in range(n_in)]\n",
    "\n",
    "    def init_bias(self, n_out):\n",
    "        return [Var(self.bias) for _ in range(n_out)]"
   ]
  },
  {
   "cell_type": "code",
   "execution_count": 233,
   "metadata": {
    "id": "jOLYGnZKuM6W"
   },
   "outputs": [],
   "source": [
    "from typing import Sequence\n",
    "\n",
    "class DenseLayer:\n",
    "    def __init__(self, n_in: int, n_out: int, act_fn, initializer = NormalInitializer()):\n",
    "        self.weights = initializer.init_weights(n_in, n_out)\n",
    "        self.bias = initializer.init_bias(n_out)\n",
    "        self.act_fn = act_fn\n",
    "    \n",
    "    def __repr__(self):    \n",
    "        return 'Weights: ' + repr(self.weights) + '\\nBiases: ' + repr(self.bias)\n",
    "\n",
    "    def parameters(self) -> Sequence[Var]:\n",
    "        params = []\n",
    "        for r in self.weights:\n",
    "            params += r\n",
    "\n",
    "        return params + self.bias\n",
    "\n",
    "    def forward(self, inputs: Sequence[Var]) -> Sequence[Var]:\n",
    "        assert len(self.weights) == len(inputs), \"weights and inputs must match in first dimension\"\n",
    "        weights = self.weights\n",
    "        out = []\n",
    "        for j in range(len(weights[0])):\n",
    "            node = self.bias[j]                    # <- Insert code - INSERTED\n",
    "            for i in range(len(inputs)):\n",
    "                node += weights[i][j] * inputs[i]  # <- Insert code - INSERTED\n",
    "            node = self.act_fn(node)\n",
    "            out.append(node)\n",
    "\n",
    "        return out"
   ]
  },
  {
   "cell_type": "markdown",
   "metadata": {
    "id": "p_8n_SKnIW2F"
   },
   "source": [
    "## Exercise f) Complete the forward pass\n",
    "\n",
    "In the code below we initialize a 1-5-1 network and pass the training set through it. The forward method in DenseLayer is not complete. It  just outputs zeros right now. The method forward should perform an [affine transformation](https://en.wikipedia.org/wiki/Affine_transformation) on the input followed by an application of the activation function."
   ]
  },
  {
   "cell_type": "code",
   "execution_count": 238,
   "metadata": {
    "colab": {
     "base_uri": "https://localhost:8080/"
    },
    "id": "xDEjtePxE7Mv",
    "outputId": "271bcd73-43d6-4255-8ea0-6447b2a0ad8c"
   },
   "outputs": [
    {
     "name": "stdout",
     "output_type": "stream",
     "text": [
      "[[Var(v=0.0067, grad=0.0000)], [Var(v=0.0135, grad=0.0000)], [Var(v=0.0012, grad=0.0000)], [Var(v=0.0342, grad=0.0000)], [Var(v=0.0099, grad=0.0000)], [Var(v=0.0092, grad=0.0000)], [Var(v=0.0060, grad=0.0000)], [Var(v=0.0082, grad=0.0000)], [Var(v=0.0352, grad=0.0000)], [Var(v=0.0037, grad=0.0000)], [Var(v=0.0104, grad=0.0000)], [Var(v=0.0217, grad=0.0000)], [Var(v=0.0083, grad=0.0000)], [Var(v=0.0248, grad=0.0000)], [Var(v=0.0045, grad=0.0000)], [Var(v=0.0087, grad=0.0000)], [Var(v=0.0160, grad=0.0000)], [Var(v=0.0076, grad=0.0000)], [Var(v=0.0008, grad=0.0000)], [Var(v=0.0026, grad=0.0000)], [Var(v=0.0163, grad=0.0000)], [Var(v=0.0072, grad=0.0000)], [Var(v=0.0117, grad=0.0000)], [Var(v=0.0118, grad=0.0000)], [Var(v=0.0095, grad=0.0000)], [Var(v=0.0256, grad=0.0000)], [Var(v=0.0151, grad=0.0000)], [Var(v=0.0166, grad=0.0000)], [Var(v=0.0018, grad=0.0000)], [Var(v=0.0105, grad=0.0000)], [Var(v=0.0321, grad=0.0000)], [Var(v=0.0025, grad=0.0000)], [Var(v=0.0280, grad=0.0000)], [Var(v=0.0303, grad=0.0000)], [Var(v=0.0080, grad=0.0000)], [Var(v=0.0056, grad=0.0000)], [Var(v=0.0347, grad=0.0000)], [Var(v=0.0131, grad=0.0000)], [Var(v=0.0246, grad=0.0000)], [Var(v=0.0176, grad=0.0000)], [Var(v=0.0124, grad=0.0000)], [Var(v=0.0168, grad=0.0000)], [Var(v=0.0156, grad=0.0000)], [Var(v=0.0209, grad=0.0000)], [Var(v=0.0165, grad=0.0000)], [Var(v=0.0202, grad=0.0000)], [Var(v=0.0101, grad=0.0000)], [Var(v=0.0095, grad=0.0000)], [Var(v=0.0077, grad=0.0000)], [Var(v=0.0097, grad=0.0000)], [Var(v=0.0042, grad=0.0000)], [Var(v=0.0004, grad=0.0000)], [Var(v=0.0106, grad=0.0000)], [Var(v=0.0170, grad=0.0000)], [Var(v=0.0168, grad=0.0000)], [Var(v=0.0148, grad=0.0000)], [Var(v=0.0113, grad=0.0000)], [Var(v=0.0126, grad=0.0000)], [Var(v=0.0055, grad=0.0000)], [Var(v=0.0300, grad=0.0000)], [Var(v=0.0098, grad=0.0000)], [Var(v=0.0212, grad=0.0000)], [Var(v=0.0350, grad=0.0000)], [Var(v=0.0048, grad=0.0000)], [Var(v=0.0035, grad=0.0000)], [Var(v=0.0287, grad=0.0000)], [Var(v=0.0308, grad=0.0000)], [Var(v=0.0124, grad=0.0000)], [Var(v=0.0220, grad=0.0000)], [Var(v=0.0049, grad=0.0000)], [Var(v=0.0085, grad=0.0000)], [Var(v=0.0038, grad=0.0000)], [Var(v=0.0096, grad=0.0000)], [Var(v=0.0056, grad=0.0000)], [Var(v=0.0030, grad=0.0000)], [Var(v=0.0152, grad=0.0000)], [Var(v=0.0152, grad=0.0000)], [Var(v=0.0147, grad=0.0000)], [Var(v=0.0194, grad=0.0000)], [Var(v=0.0159, grad=0.0000)], [Var(v=0.0024, grad=0.0000)], [Var(v=0.0014, grad=0.0000)], [Var(v=0.0316, grad=0.0000)], [Var(v=0.0043, grad=0.0000)], [Var(v=0.0160, grad=0.0000)], [Var(v=0.0069, grad=0.0000)], [Var(v=0.0059, grad=0.0000)], [Var(v=0.0178, grad=0.0000)], [Var(v=0.0326, grad=0.0000)], [Var(v=0.0339, grad=0.0000)], [Var(v=0.0057, grad=0.0000)], [Var(v=0.0103, grad=0.0000)], [Var(v=0.0189, grad=0.0000)], [Var(v=0.0090, grad=0.0000)], [Var(v=0.0269, grad=0.0000)], [Var(v=0.0324, grad=0.0000)], [Var(v=0.0041, grad=0.0000)], [Var(v=0.0007, grad=0.0000)], [Var(v=0.0144, grad=0.0000)], [Var(v=0.0191, grad=0.0000)], [Var(v=0.0094, grad=0.0000)], [Var(v=0.0186, grad=0.0000)], [Var(v=0.0285, grad=0.0000)], [Var(v=0.0046, grad=0.0000)], [Var(v=0.0134, grad=0.0000)]]\n"
     ]
    }
   ],
   "source": [
    "NN = [\n",
    "    DenseLayer(1, 5, lambda x: x.relu()),\n",
    "    DenseLayer(5, 1, lambda x: x.identity())\n",
    "]\n",
    "\n",
    "def forward(input, network):\n",
    "\n",
    "    def forward_single(x, network):\n",
    "        for layer in network:\n",
    "            x = layer.forward(x)\n",
    "        return x\n",
    "\n",
    "    # PROBABLY SHOULDN'T HAVE EINSUM HERE BELOW\n",
    "    output = [forward_single(np.einsum('n', input[n]), network) for n in range(len(input))]\n",
    "    return output\n",
    "\n",
    "print(forward(x_train, NN))"
   ]
  },
  {
   "cell_type": "markdown",
   "metadata": {
    "id": "oLrGJytZFtGm"
   },
   "source": [
    "## Exercise g) Print all network parameters\n",
    "\n",
    "Make a function that prints all the parameters of the network (weights and biases) with information about in which layer the appear. In the object oriented spirit you should introduce a method in the DenseLayer class to print the parameters of a layer. Hint: You can take inspiration from the corresponding method in Var. "
   ]
  },
  {
   "cell_type": "code",
   "execution_count": 239,
   "metadata": {
    "id": "iac-VwYGFtGm"
   },
   "outputs": [
    {
     "name": "stdout",
     "output_type": "stream",
     "text": [
      "--- Layer 0 ---\n",
      "Weights: [[Var(v=-0.0356, grad=0.0000), Var(v=0.1345, grad=0.0000), Var(v=-0.1478, grad=0.0000), Var(v=0.1943, grad=0.0000), Var(v=0.0012, grad=0.0000)]]\n",
      "Biases: [Var(v=0.0000, grad=0.0000), Var(v=0.0000, grad=0.0000), Var(v=0.0000, grad=0.0000), Var(v=0.0000, grad=0.0000), Var(v=0.0000, grad=0.0000)]\n",
      "--- Layer 1 ---\n",
      "Weights: [[Var(v=-0.2323, grad=0.0000)], [Var(v=0.0236, grad=0.0000)], [Var(v=0.2080, grad=0.0000)], [Var(v=0.0320, grad=0.0000)], [Var(v=-0.0572, grad=0.0000)]]\n",
      "Biases: [Var(v=0.0000, grad=0.0000)]\n"
     ]
    }
   ],
   "source": [
    "# Insert code here and in the DenseLayer class\n",
    "def printLayerParameters(network):\n",
    "    count = 0\n",
    "    for layer in network:\n",
    "        print(f'--- Layer {count} ---')\n",
    "        print(layer)\n",
    "        count +=1\n",
    "\n",
    "printLayerParameters(NN)"
   ]
  },
  {
   "cell_type": "markdown",
   "metadata": {
    "id": "-u4xk_ORFtGz"
   },
   "source": [
    "# Activation functions\n",
    "\n",
    "To have a full definition of the neural network, we must define an activation function for every layer. Several activation functions have been proposed and have different characteristics. In the Var class we have already defined the rectified linear init (relu). \n",
    " "
   ]
  },
  {
   "cell_type": "markdown",
   "metadata": {
    "id": "jpIZPBpNI0pO"
   },
   "source": [
    "## Exercise h) Add more activation functions\n",
    "\n",
    "Implement the following activation functions in the Var class:\n",
    "\n",
    "* Identity: $$\\mathrm{identity}(x) = x$$\n",
    "* Hyperbolic tangent: $$\\tanh(x)$$\n",
    "* Sigmoid (or logistic function): $$\\mathrm{sigmoid}(x) = \\frac{1}{1.0 + \\exp(-x ) }$$  Hint: $\\mathrm{sigmoid}'(x)= \\mathrm{sigmoid}(x)(1-\\mathrm{sigmoid}(x))$.  \n",
    "\n",
    "Hint: You can seek inspiration in the relu method in the Var class."
   ]
  },
  {
   "cell_type": "markdown",
   "metadata": {},
   "source": [
    "<font color = \"blue\"> **Solution:** </font> Inserted in `class Var` at the top:\n",
    "```\n",
    "def identity(self):\n",
    "    return self\n",
    "        \n",
    "def tanh(self):\n",
    "        return Var(tanh(self.v), [(self, 1 - tanh(self.v) ** 2)])\n",
    "    \n",
    "def sigmoid(self):\n",
    "    return Var((1 + exp(-1.0 * self.v)) ** -1, [self, (1 + exp(-1.0 * self.v)) ** -1 * (1 - (1 + exp(-1.0 * self.v)) ** -1)])\n",
    "```"
   ]
  },
  {
   "cell_type": "markdown",
   "metadata": {
    "id": "_79HOAXrFtHK"
   },
   "source": [
    "## Visualization\n",
    "\n",
    "Now that we have defined our activation functions we can visualize them to see what they look like:"
   ]
  },
  {
   "cell_type": "code",
   "execution_count": 241,
   "metadata": {
    "colab": {
     "base_uri": "https://localhost:8080/",
     "height": 284
    },
    "id": "1FcylHqLTl-Z",
    "outputId": "c23c865b-3894-434c-f38a-f3cff5f772e5"
   },
   "outputs": [
    {
     "data": {
      "text/plain": [
       "[<matplotlib.lines.Line2D at 0x1d417d7e040>]"
      ]
     },
     "execution_count": 241,
     "metadata": {},
     "output_type": "execute_result"
    },
    {
     "data": {
      "image/png": "[encoded data removed]",
      "text/plain": [
       "<Figure size 432x288 with 1 Axes>"
      ]
     },
     "metadata": {
      "needs_background": "light"
     },
     "output_type": "display_data"
    }
   ],
   "source": [
    "x = np.linspace(-6, 6, 100)\n",
    "\n",
    "# convert from Var to ndarray  \n",
    "def Var_to_nparray(x):\n",
    "    y = np.zeros((len(x),len(x[0])))\n",
    "    for i in range(len(x)):\n",
    "        for j in range(len(x[0])):\n",
    "            y[i,j] = x[i][j].v\n",
    "    return y\n",
    "\n",
    "# define 1-1 network with weight = 1 and relu activation \n",
    "NN = [ DenseLayer(1, 1, lambda x: x.relu(), initializer = ConstantInitializer(1.0)) ] \n",
    "y = Var_to_nparray(forward(nparray_to_Var(x), NN))\n",
    "\n",
    "#y = Var_to_nparray(relu(nparray_to_Var(x)))\n",
    "plt.plot(x,y)"
   ]
  },
  {
   "cell_type": "code",
   "execution_count": 242,
   "metadata": {
    "colab": {
     "base_uri": "https://localhost:8080/",
     "height": 341
    },
    "id": "oOL2UolJFtHL",
    "outputId": "9d51d191-ca43-44a6-d5f6-d41a2bd0a80b"
   },
   "outputs": [
    {
     "data": {
      "image/png": "[encoded data removed]",
      "text/plain": [
       "<Figure size 360x360 with 1 Axes>"
      ]
     },
     "metadata": {
      "needs_background": "light"
     },
     "output_type": "display_data"
    }
   ],
   "source": [
    "# Testing all activation layers\n",
    "\n",
    "x = np.linspace(-6, 6, 100)\n",
    "units = {\n",
    "    \"identity\": lambda x: x.identity(),\n",
    "    \"sigmoid\": lambda x: x.sigmoid(),  # <- uncomment before sharing\n",
    "    \"relu\": lambda x: x.relu(),\n",
    "    \"tanh\": lambda x: x.tanh() # <- uncomment before sharing\n",
    "}\n",
    "\n",
    "plt.figure(figsize=(5, 5))\n",
    "[plt.plot(x, Var_to_nparray(forward(nparray_to_Var(x), [DenseLayer(1, 1, unit, initializer = ConstantInitializer(1.0))]) ), label=unit_name, lw=2) for unit_name, unit in units.items()] # unit(nparray_to_Var(x))), label=unit_name, lw=2) for unit_name, unit in units.items()]\n",
    "plt.legend(loc=2, fontsize=16)\n",
    "plt.title('Our activation functions', fontsize=20)\n",
    "plt.ylim([-2, 5])\n",
    "plt.xlim([-6, 6])\n",
    "plt.show()"
   ]
  },
  {
   "cell_type": "markdown",
   "metadata": {
    "id": "b-jdEl-7FtGs"
   },
   "source": [
    "# Advanced initialization schemes\n",
    "\n",
    "If we are not careful with initialization, the signals we propagate forward ($a^{(l)}$, $l=1,\\ldots,L$) and backward ($\\delta^l$, $l=L,L-1,\\ldots,1$) can blow up or shrink to zero. A statistical analysis of the variance of the signals for different activation functions can be found in these two papers: [Glorot initialization](http://proceedings.mlr.press/v9/glorot10a/glorot10a.pdf) and [He initialization](https://arxiv.org/pdf/1502.01852v1.pdf). \n",
    "\n",
    "The result of the analyses are proposals for how to make the initialization such that the variance of the signals (forward and backward) are kept approxmimatly constant when propagating from layer to layer. The exact expressions depend upon the non-linear activation function used. In Glorot initialization, the aim is to keep both the forward and backward variances constant whereas He only aims at keeping the variance in the forward pass constant.\n",
    "\n",
    "We define $n_{in}$ and $n_{out}$ as the number of input units and output units of a particular layer. \n",
    "\n",
    "The Glorot initialization has the form: \n",
    "\n",
    "$$w_{ij} \\sim N \\bigg( 0, \\, \\frac{2 \\alpha }{n_{in} + n_{out}} \\bigg) \\ . $$\n",
    "\n",
    "where $N(\\mu,\\sigma^2)$ is a Gaussian distribution with mean $\\mu$ and variance $\\sigma^2$ and $\\alpha$ is a parameter that depends upon the activation function used. For $\\tanh$, $\\alpha=1$ and for Rectified Linear Unit (ReLU) activations, $\\alpha=2$. (It is also possible to use a uniform distribution for initialization, see [this blog post](https://mmuratarat.github.io/2019-02-25/xavier-glorot-he-weight-init).) \n",
    "\n",
    "The He initialization is very similar\n",
    "\n",
    "$$w_{ij} \\sim N \\bigg( 0, \\, \\frac{\\alpha}{n_{in}} \\bigg) \\ . $$"
   ]
  },
  {
   "cell_type": "markdown",
   "metadata": {
    "id": "mqeyab9qFtGs"
   },
   "source": [
    "## Exercise i) Glorot and He initialization\n",
    " \n",
    "Using the Initializer class, implement functions that implement Glorot and He \n",
    "\n",
    "Explain briefly how you would test numerically that these initializations have the sought after property. Hint: See plots in Glorot paper.\n",
    "\n",
    "Comment: If you want to be more advanced then try to make a universal initializer taking both the activation function and type (Glorot or He) as argument.\n",
    "\n",
    "<font color = \"blue\"> **Solution:** </font>"
   ]
  },
  {
   "cell_type": "code",
   "execution_count": 175,
   "metadata": {
    "id": "Qyk01CgaFtGt"
   },
   "outputs": [],
   "source": [
    "## Glorot\n",
    "def DenseLayer_Glorot_tanh(n_in: int, n_out: int):\n",
    "    alpha = 1\n",
    "    std = 2 * alpha / (n_in + n_out) # <- replace with proper initialization - REPLACED\n",
    "    return DenseLayer(n_in, n_out, lambda x: x.tanh(), initializer = NormalInitializer(std))\n",
    "\n",
    "## He\n",
    "def DenseLayer_He_relu(n_in: int, n_out: int):\n",
    "    alpha = 2\n",
    "    std = alpha / n_in # <- replace with proper initialization - REPLACED\n",
    "    return DenseLayer(n_in, n_out, lambda x: x.relu(), initializer = NormalInitializer(std))"
   ]
  },
  {
   "cell_type": "markdown",
   "metadata": {},
   "source": [
    "<font color=\"red\"> **Answer from peergrade submission 3:** ERROR IN MINE!! The equations above give VARIANCE and we're supposed to calculate STANDARD DEVIATION = SQRT(VARIANCE) in the functions above. Code from submission 3:"
   ]
  },
  {
   "cell_type": "code",
   "execution_count": null,
   "metadata": {},
   "outputs": [],
   "source": [
    "## Glorot\n",
    "def DenseLayer_Glorot_tanh(n_in: int, n_out: int):\n",
    "  std = sqrt(2 / (n_in + n_out))\n",
    "  return DenseLayer(n_in, n_out, lambda x: x.tanh(), initializer = NormalInitializer(std))\n",
    "\n",
    "## He\n",
    "def DenseLayer_He_relu(n_in: int, n_out: int):\n",
    "  std = sqrt(2 / n_in)\n",
    "  return DenseLayer(n_in, n_out, lambda x: x.tanh(), initializer = NormalInitializer(std))\n",
    "\n",
    "def DenseLayer_Universal(n_in: int, n_out: int, activation_function: str, initializer_type: str):\n",
    "  assert activation_function in [\"tanh\", \"ReLU\"]\n",
    "  assert initializer_type in [\"He\", \"Glorot\"]\n",
    "  alpha = 1 if activation_function == \"tanh\" else 2\n",
    "  std = sqrt(2 * alpha / (n_in + n_out)) if initializer_type == \"Glorot\" else sqrt(alpha / n_in)\n",
    "  activation = lambda x: x.tanh() if activation_function == \"tanh\" else lambda x: x.relu()\n",
    "  return DenseLayer(n_in, n_out, activation, initializer = NormalInitializer(std))"
   ]
  },
  {
   "cell_type": "markdown",
   "metadata": {
    "id": "-XyXBD37FtHk"
   },
   "source": [
    "## Exercise j) Forward pass unit test\n",
    "\n",
    "Write a bit of code to make a unit test that the forward pass works. This can be done by defining a simple network with for example all weights equal to one (using the ConstantInitializer method) and identity activation functions. \n",
    "\n",
    "Hints: Use the [assert](https://www.w3schools.com/python/ref_keyword_assert.asp), the nparray_to_Var and the Var_to_nparray commands. \n",
    "\n",
    "<font color=\"red\"> **Answer from peergrade submission 2:**"
   ]
  },
  {
   "cell_type": "code",
   "execution_count": 282,
   "metadata": {
    "id": "k0miqRUAFtHl"
   },
   "outputs": [],
   "source": [
    "# Insert code here\n",
    "NN_test = [\n",
    "  DenseLayer(10, 1, lambda x: x.identity(), initializer = ConstantInitializer(1.0, 0.0))\n",
    "]\n",
    "\n",
    "PrintParam(NN_test)\n",
    "\n",
    "x = np.array([np.linspace(x*10+1, x*10+10, 10) for x in range(10)])\n",
    "y = Var_to_nparray(forward(nparray_to_Var(x), NN_test))\n",
    "\n",
    "print(x,y,sep=\"\\n\")\n",
    "\n",
    "assert np.all(y.T[0] == np.sum(x, axis=1)), \"The outputs do not match\""
   ]
  },
  {
   "cell_type": "markdown",
   "metadata": {},
   "source": [
    "<font color=\"red\"> **Answer from peergrade submission 3:**"
   ]
  },
  {
   "cell_type": "code",
   "execution_count": null,
   "metadata": {},
   "outputs": [],
   "source": [
    "# Insert code here\n",
    "input = np.linspace(-10, 10, 100)\n",
    "NN = [\n",
    "    DenseLayer(1, 1, lambda x: x.identity(), initializer = ConstantInitializer())\n",
    "]\n",
    "output = Var_to_nparray(forward(nparray_to_Var(x), NN))\n",
    "assert input.all() == output.all()"
   ]
  },
  {
   "cell_type": "markdown",
   "metadata": {
    "id": "faCxhfFnFtHp"
   },
   "source": [
    "# Loss functions\n",
    "\n",
    "We are only missing a loss function to we need to define a loss function and its derivative with respect to the output of the neural network $y$"
   ]
  },
  {
   "cell_type": "code",
   "execution_count": 245,
   "metadata": {
    "id": "I2eDYKvAFtHq"
   },
   "outputs": [],
   "source": [
    "def squared_loss(t, y):\n",
    "  \n",
    "  # add check that sizes agree\n",
    "    def squared_loss_single(t, y):\n",
    "        Loss = Var(0.0)\n",
    "        for i in range(len(t)): # sum over outputs\n",
    "            Loss += (t[i]-y[i]) ** 2\n",
    "        return Loss\n",
    "\n",
    "    Loss = Var(0.0)\n",
    "    for n in range(len(t)): # sum over training data\n",
    "        Loss += squared_loss_single(t[n],y[n])\n",
    "    return Loss"
   ]
  },
  {
   "cell_type": "markdown",
   "metadata": {
    "id": "SrwSJ2UWFtHu"
   },
   "source": [
    "## Exercise j) Implement cross entropy loss\n",
    "\n",
    "Insert code below to implement cross-entropy loss for general dimensionality of $t$. Use a logits formulation:\n",
    "$$\n",
    "\\rm{Loss} = - \\sum_i t_i \\, log \\, p_i \n",
    "$$\n",
    "with $p$ given by the the softmax function in terms of the logits $h$:\n",
    "$$\n",
    "p_i = \\frac{\\exp(h_i)}{\\sum_{i'} \\exp(h_{i'} } .\n",
    "$$\n",
    "Inserting $p$ in the expression for the loss gives\n",
    "$$\n",
    "\\rm{Loss} = - \\sum_i t_i h_i + \\rm{LogSumExp}(h) \\ ,\n",
    "$$\n",
    "where \n",
    "$$\n",
    "\\rm{LogSumExp}(h) = \\log \\sum_i \\exp h_i \\ .\n",
    "$$\n",
    "This is true for $t$ being a one-hot vector. In practice you want to implement a [numerically stable](https://leimao.github.io/blog/LogSumExp/) version of LogSumExp. But we will not bother about that here.\n",
    "\n",
    "Help: You can add these methods in the Var class:\n",
    "\n",
    "    def exp(self):\n",
    "        return Var(exp(self.v), lambda: [(self, exp(self.v))])\n",
    "    \n",
    "    def log(self):\n",
    "        return Var(log(self.v), lambda: [(self, self.v ** -1)])"
   ]
  },
  {
   "cell_type": "code",
   "execution_count": 246,
   "metadata": {
    "id": "6nMuxyfzFtHv"
   },
   "outputs": [],
   "source": [
    "def cross_entropy_loss(t, y):\n",
    "     \n",
    "    Loss = Var(0.0)\n",
    "    # Insert code here\n",
    "    return Loss"
   ]
  },
  {
   "cell_type": "markdown",
   "metadata": {},
   "source": [
    "<font color=\"red\"> **Answer from peergrade submission 2:**"
   ]
  },
  {
   "cell_type": "code",
   "execution_count": null,
   "metadata": {},
   "outputs": [],
   "source": [
    "def cross_entropy_loss_single(t, y):\n",
    "        Loss = Var(0.0)\n",
    "        SumExp = Var(0.0)\n",
    "        for i in range(len(y)):\n",
    "            Loss -= t[i] * y[i]\n",
    "            SumExp += y[i].exp()\n",
    "        Loss += SumExp.log()\n",
    "        return Loss\n",
    "\n",
    "def cross_entropy_loss(t, y):\n",
    "    Loss = Var(0.0)\n",
    "\n",
    "    for n in range(len(t)): # sum over training data\n",
    "        Loss += cross_entropy_loss_single(t[n],y[n])\n",
    "    \n",
    "    return Loss"
   ]
  },
  {
   "cell_type": "markdown",
   "metadata": {
    "id": "8fAF5ew4FtHy"
   },
   "source": [
    "# Backward pass\n",
    "\n",
    "Now the magic happens! We get the calculation of the gradients for free. Just do:"
   ]
  },
  {
   "cell_type": "code",
   "execution_count": 247,
   "metadata": {
    "id": "iHyfPPI9Qqwu"
   },
   "outputs": [],
   "source": [
    "NN = [\n",
    "    DenseLayer(1, 5, lambda x: x.relu()),\n",
    "    DenseLayer(5, 1, lambda x: x.identity())\n",
    "]\n",
    "\n",
    "output = forward(x_train, NN)\n",
    "\n",
    "Loss = squared_loss(y_train,output)\n",
    "Loss.backward()"
   ]
  },
  {
   "cell_type": "markdown",
   "metadata": {
    "id": "49biIAYKQ1oG"
   },
   "source": [
    "and the gradients will be calculated:"
   ]
  },
  {
   "cell_type": "code",
   "execution_count": 248,
   "metadata": {
    "colab": {
     "base_uri": "https://localhost:8080/"
    },
    "id": "_rGt1bq_Q7uk",
    "outputId": "8d283577-9bd1-496b-f4a8-764a9507a4bf"
   },
   "outputs": [
    {
     "name": "stdout",
     "output_type": "stream",
     "text": [
      "Layer 0 \n",
      " Weights: [[Var(v=-0.1329, grad=-0.8185), Var(v=0.0171, grad=12.2873), Var(v=-0.0186, grad=-3.8901), Var(v=0.0725, grad=7.0822), Var(v=-0.0207, grad=-5.2937)]]\n",
      "Biases: [Var(v=0.0000, grad=0.7440), Var(v=0.0000, grad=10.5533), Var(v=0.0000, grad=3.5361), Var(v=0.0000, grad=6.0828), Var(v=0.0000, grad=4.8120)]\n",
      "Layer 1 \n",
      " Weights: [[Var(v=0.0085, grad=12.8029)], [Var(v=-0.1200, grad=-1.7507)], [Var(v=0.0404, grad=1.7892)], [Var(v=-0.0692, grad=-7.4198)], [Var(v=0.0550, grad=1.9920)]]\n",
      "Biases: [Var(v=0.0000, grad=-0.3751)]\n"
     ]
    },
    {
     "data": {
      "text/plain": [
       "[None, None]"
      ]
     },
     "execution_count": 248,
     "metadata": {},
     "output_type": "execute_result"
    }
   ],
   "source": [
    "[print('Layer', i, '\\n', NN[i]) for i in range(len(NN))] "
   ]
  },
  {
   "cell_type": "markdown",
   "metadata": {
    "id": "D7d7qK0uFtH9"
   },
   "source": [
    "# Backward pass unit test\n",
    "\n",
    "Above we used finite differences to test that Nanograd is actually doing what it is supposed to do. We can in principle try the same for the neural network. But we will trust that the test above is enough."
   ]
  },
  {
   "cell_type": "markdown",
   "metadata": {
    "id": "WgBi8GOSFtIN"
   },
   "source": [
    "# Training and validation\n",
    "\n",
    "We are ready to train some neural networks!\n",
    "\n",
    "We initialize again:"
   ]
  },
  {
   "cell_type": "code",
   "execution_count": 249,
   "metadata": {
    "id": "01ePmzBzRtdh"
   },
   "outputs": [],
   "source": [
    "NN = [\n",
    "    DenseLayer(1, 5, lambda x: x.relu()),\n",
    "    DenseLayer(5, 1, lambda x: x.identity())\n",
    "]\n",
    "\n",
    "output = forward(x_train, NN)\n",
    "\n",
    "Loss = squared_loss(y_train,output)\n",
    "Loss.backward()"
   ]
  },
  {
   "cell_type": "markdown",
   "metadata": {
    "id": "10iRPiQ1ISHw"
   },
   "source": [
    "and make an update:\n",
    "\n",
    "We introduce a help function parameters to have a handle in all parameters in the network."
   ]
  },
  {
   "cell_type": "code",
   "execution_count": 250,
   "metadata": {
    "colab": {
     "base_uri": "https://localhost:8080/"
    },
    "id": "dhAI7eyeznia",
    "outputId": "8584bbad-00aa-4130-9961-44e9ae7fb4ed"
   },
   "outputs": [
    {
     "name": "stdout",
     "output_type": "stream",
     "text": [
      "Network before update:\n",
      "Layer 0 \n",
      " Weights: [[Var(v=0.0630, grad=-23.4848), Var(v=0.0224, grad=13.9708), Var(v=-0.1459, grad=-1.0529), Var(v=-0.0785, grad=-18.7822), Var(v=-0.1392, grad=-0.6380)]]\n",
      "Biases: [Var(v=0.0000, grad=-20.1783), Var(v=0.0000, grad=12.0038), Var(v=0.0000, grad=0.9573), Var(v=0.0000, grad=17.0775), Var(v=0.0000, grad=0.5801)]\n",
      "Layer 1 \n",
      " Weights: [[Var(v=0.2341, grad=-6.3237)], [Var(v=-0.1393, grad=-2.2492)], [Var(v=0.0108, grad=14.2631)], [Var(v=0.1921, grad=7.6724)], [Var(v=0.0065, grad=13.6122)]]\n",
      "Biases: [Var(v=0.0000, grad=2.7034)]\n",
      "\n",
      "Network after update:\n",
      "Layer 0 \n",
      " Weights: [[Var(v=0.2979, grad=-23.4848), Var(v=-0.1173, grad=13.9708), Var(v=-0.1354, grad=-1.0529), Var(v=0.1093, grad=-18.7822), Var(v=-0.1329, grad=-0.6380)]]\n",
      "Biases: [Var(v=0.2018, grad=-20.1783), Var(v=-0.1200, grad=12.0038), Var(v=-0.0096, grad=0.9573), Var(v=-0.1708, grad=17.0775), Var(v=-0.0058, grad=0.5801)]\n",
      "Layer 1 \n",
      " Weights: [[Var(v=0.2973, grad=-6.3237)], [Var(v=-0.1168, grad=-2.2492)], [Var(v=-0.1319, grad=14.2631)], [Var(v=0.1154, grad=7.6724)], [Var(v=-0.1296, grad=13.6122)]]\n",
      "Biases: [Var(v=-0.0270, grad=2.7034)]\n",
      "\n",
      "Network after zeroing gradients:\n",
      "Layer 0 \n",
      " Weights: [[Var(v=0.2979, grad=0.0000), Var(v=-0.1173, grad=0.0000), Var(v=-0.1354, grad=0.0000), Var(v=0.1093, grad=0.0000), Var(v=-0.1329, grad=0.0000)]]\n",
      "Biases: [Var(v=0.2018, grad=0.0000), Var(v=-0.1200, grad=0.0000), Var(v=-0.0096, grad=0.0000), Var(v=-0.1708, grad=0.0000), Var(v=-0.0058, grad=0.0000)]\n",
      "Layer 1 \n",
      " Weights: [[Var(v=0.2973, grad=0.0000)], [Var(v=-0.1168, grad=0.0000)], [Var(v=-0.1319, grad=0.0000)], [Var(v=0.1154, grad=0.0000)], [Var(v=-0.1296, grad=0.0000)]]\n",
      "Biases: [Var(v=-0.0270, grad=0.0000)]\n"
     ]
    },
    {
     "data": {
      "text/plain": [
       "[None, None]"
      ]
     },
     "execution_count": 250,
     "metadata": {},
     "output_type": "execute_result"
    }
   ],
   "source": [
    "print('Network before update:')\n",
    "[print('Layer', i, '\\n', NN[i]) for i in range(len(NN))] \n",
    "\n",
    "def parameters(network):\n",
    "    params = []\n",
    "    for layer in range(len(network)):\n",
    "        params += network[layer].parameters()\n",
    "    return params\n",
    "\n",
    "def update_parameters(params, learning_rate=0.01):\n",
    "    for p in params:\n",
    "        p.v -= learning_rate*p.grad\n",
    "\n",
    "def zero_gradients(params):\n",
    "    for p in params:\n",
    "        p.grad = 0.0\n",
    "\n",
    "update_parameters(parameters(NN))\n",
    "\n",
    "print('\\nNetwork after update:')\n",
    "[print('Layer', i, '\\n', NN[i]) for i in range(len(NN))] \n",
    "\n",
    "zero_gradients(parameters(NN))\n",
    "\n",
    "print('\\nNetwork after zeroing gradients:')\n",
    "[print('Layer', i, '\\n', NN[i]) for i in range(len(NN))] "
   ]
  },
  {
   "cell_type": "code",
   "execution_count": null,
   "metadata": {
    "collapsed": true,
    "id": "woWYpdw6FtIO"
   },
   "outputs": [],
   "source": [
    "# Initialize an arbitrary neural network\n",
    "NN = [\n",
    "    DenseLayer(1, 8, lambda x: x.relu()),\n",
    "    DenseLayer(8, 1, lambda x: x.identity())\n",
    "]\n",
    "\n",
    "# Recommended hyper-parameters for 3-D: \n",
    "#NN = [\n",
    "#    DenseLayer(3, 16, lambda x: x.relu()),\n",
    "#    DenseLayer(16, 1, lambda x: x.identity())\n",
    "#]\n",
    "\n",
    "\n",
    "### Notice that, when we switch from tanh to relu activation, we decrease the learning rate. This is due the stability of the gradients \n",
    "## of the activation functions."
   ]
  },
  {
   "cell_type": "code",
   "execution_count": null,
   "metadata": {
    "collapsed": true,
    "id": "mdqaqYBVFtIR"
   },
   "outputs": [],
   "source": [
    "# Initialize training hyperparameters\n",
    "EPOCHS = 200\n",
    "LEARN_R = 2e-3 "
   ]
  },
  {
   "cell_type": "code",
   "execution_count": null,
   "metadata": {
    "colab": {
     "base_uri": "https://localhost:8080/"
    },
    "id": "5kfg76GMFtIW",
    "outputId": "e30cf68a-31f2-42b4-cc5e-860c297c0f04",
    "scrolled": true
   },
   "outputs": [
    {
     "name": "stdout",
     "output_type": "stream",
     "text": [
      "   0 ( 0.00%) Train loss: 104.544 \t Validation loss: 105.001\n",
      "  10 ( 5.00%) Train loss: 36.583 \t Validation loss: 34.438\n",
      "  20 (10.00%) Train loss: 16.135 \t Validation loss: 14.132\n",
      "  30 (15.00%) Train loss: 14.970 \t Validation loss: 12.217\n",
      "  40 (20.00%) Train loss: 14.365 \t Validation loss: 11.332\n",
      "  50 (25.00%) Train loss: 13.856 \t Validation loss: 10.711\n",
      "  60 (30.00%) Train loss: 13.387 \t Validation loss: 10.282\n",
      "  70 (35.00%) Train loss: 13.011 \t Validation loss: 9.923\n",
      "  80 (40.00%) Train loss: 12.723 \t Validation loss: 9.639\n",
      "  90 (45.00%) Train loss: 12.446 \t Validation loss: 9.425\n",
      " 100 (50.00%) Train loss: 12.246 \t Validation loss: 9.233\n",
      " 110 (55.00%) Train loss: 12.107 \t Validation loss: 9.098\n",
      " 120 (60.00%) Train loss: 12.029 \t Validation loss: 9.015\n",
      " 130 (65.00%) Train loss: 11.983 \t Validation loss: 8.969\n",
      " 140 (70.00%) Train loss: 11.954 \t Validation loss: 8.953\n",
      " 150 (75.00%) Train loss: 11.933 \t Validation loss: 8.947\n",
      " 160 (80.00%) Train loss: 11.919 \t Validation loss: 8.944\n",
      " 170 (85.00%) Train loss: 11.911 \t Validation loss: 8.945\n",
      " 180 (90.00%) Train loss: 11.905 \t Validation loss: 8.948\n",
      " 190 (95.00%) Train loss: 11.902 \t Validation loss: 8.950\n"
     ]
    }
   ],
   "source": [
    "train_loss = []\n",
    "val_loss = []\n",
    "\n",
    "for e in range(EPOCHS):\n",
    "     \n",
    "    # Forward pass and loss computation\n",
    "    Loss = squared_loss(y_train, forward(x_train, NN))\n",
    "\n",
    "    # Backward pass\n",
    "    Loss.backward()\n",
    "    \n",
    "    # gradient descent update\n",
    "    update_parameters(parameters(NN), LEARN_R)\n",
    "    zero_gradients(parameters(NN))\n",
    "    \n",
    "    # Training loss\n",
    "    train_loss.append(Loss.v)\n",
    "    \n",
    "    # Validation\n",
    "    Loss_validation = squared_loss(y_validation, forward(x_validation, NN))\n",
    "    val_loss.append(Loss_validation.v)\n",
    "    \n",
    "    if e%10==0:\n",
    "        print(\"{:4d}\".format(e),\n",
    "              \"({:5.2f}%)\".format(e/EPOCHS*100), \n",
    "              \"Train loss: {:4.3f} \\t Validation loss: {:4.3f}\".format(train_loss[-1], val_loss[-1]))\n",
    "        \n"
   ]
  },
  {
   "cell_type": "code",
   "execution_count": null,
   "metadata": {
    "colab": {
     "base_uri": "https://localhost:8080/",
     "height": 265
    },
    "id": "VetyRWFwFtIY",
    "outputId": "344e490d-6d7d-455a-fa6f-88dd11eb957e"
   },
   "outputs": [
    {
     "data": {
      "image/png": "[encoded data removed]",
      "text/plain": [
       "<Figure size 432x288 with 1 Axes>"
      ]
     },
     "metadata": {
      "needs_background": "light",
      "tags": []
     },
     "output_type": "display_data"
    }
   ],
   "source": [
    "plt.plot(range(len(train_loss)), train_loss);\n",
    "plt.plot(range(len(val_loss)), val_loss);"
   ]
  },
  {
   "cell_type": "markdown",
   "metadata": {
    "id": "8OgmIrM9FtIb"
   },
   "source": [
    "# Testing\n",
    "\n",
    "We have kept the calculation of the test error separate in order to emphasize that you should not use the test set in optimization."
   ]
  },
  {
   "cell_type": "code",
   "execution_count": null,
   "metadata": {
    "collapsed": true,
    "id": "HmNi7S-vFtIc"
   },
   "outputs": [],
   "source": [
    "output_test = forward(x_test, NN)"
   ]
  },
  {
   "cell_type": "code",
   "execution_count": null,
   "metadata": {
    "colab": {
     "base_uri": "https://localhost:8080/",
     "height": 316
    },
    "id": "7mmJOTSEFtIf",
    "outputId": "e3264095-cefe-4aee-893d-bf152438e332"
   },
   "outputs": [
    {
     "name": "stdout",
     "output_type": "stream",
     "text": [
      "Test loss:  9.798\n"
     ]
    },
    {
     "data": {
      "image/png": "[encoded data removed]",
      "text/plain": [
       "<Figure size 432x288 with 1 Axes>"
      ]
     },
     "metadata": {
      "needs_background": "light",
      "tags": []
     },
     "output_type": "display_data"
    }
   ],
   "source": [
    "y_test_np = Var_to_nparray(y_test)\n",
    "plt.scatter(y_test_np, Var_to_nparray(output_test));\n",
    "plt.plot([np.min(y_test_np), np.max(y_test_np)], [np.min(y_test_np), np.max(y_test_np)], color='k');\n",
    "plt.xlabel(\"y\");\n",
    "plt.ylabel(\"$\\hat{y}$\");\n",
    "plt.title(\"Model prediction vs real in the test set, the close to the line the better\")\n",
    "plt.grid(True);\n",
    "plt.axis('equal');\n",
    "plt.tight_layout();\n",
    "\n",
    "Loss_test = squared_loss(y_test, forward(x_test, NN))\n",
    "\n",
    "print(\"Test loss:  {:4.3f}\".format(Loss_test.v))"
   ]
  },
  {
   "cell_type": "code",
   "execution_count": null,
   "metadata": {
    "colab": {
     "base_uri": "https://localhost:8080/",
     "height": 279
    },
    "id": "ODi0WlmQFtIh",
    "outputId": "d1ab874f-0717-4987-87bf-1f0c7c8e7148"
   },
   "outputs": [
    {
     "data": {
      "image/png": "[encoded data removed]",
      "text/plain": [
       "<Figure size 432x288 with 1 Axes>"
      ]
     },
     "metadata": {
      "needs_background": "light",
      "tags": []
     },
     "output_type": "display_data"
    }
   ],
   "source": [
    "x_test_np = Var_to_nparray(x_test)\n",
    "x_train_np = Var_to_nparray(x_train)\n",
    "y_train_np = Var_to_nparray(y_train)\n",
    "if D1:\n",
    "    plt.scatter(x_train_np, y_train_np, label=\"train data\");\n",
    "    plt.scatter(x_test_np, Var_to_nparray(output_test), label=\"test prediction\");\n",
    "    plt.scatter(x_test_np, y_test_np, label=\"test data\");\n",
    "    plt.legend();\n",
    "    plt.xlabel(\"x\");\n",
    "    plt.ylabel(\"y\");\n",
    "else:\n",
    "    plt.scatter(x_train_np[:,1], y_train, label=\"train data\");\n",
    "    plt.scatter(x_test_np[:,1], Var_to_nparray(output_test), label=\"test data prediction\");\n",
    "    plt.scatter(x_test_np[:,1], y_test_np, label=\"test data\");\n",
    "    plt.legend();\n",
    "    plt.xlabel(\"x\");\n",
    "    plt.ylabel(\"y\");"
   ]
  },
  {
   "cell_type": "markdown",
   "metadata": {
    "id": "zTBAmjsAFtIk"
   },
   "source": [
    "## Exercise k) Show overfitting, underfitting and just right fitting\n",
    "\n",
    "Vary the architecture and other things to show clear signs of **overfitting (=training loss significantly lower than test loss)** and **underfitting (=not fitting enoung to training data so that test performance is also hurt)**.\n",
    "\n",
    "See also if you can get a good compromise which leads to a low validation loss. \n",
    "\n",
    "For this problem do you see any big difference between validation and test loss? The answer here will probably be no. Discuss cases where it is important to keep the two separate.\n",
    "\n",
    "_Insert written answer here._"
   ]
  },
  {
   "cell_type": "code",
   "execution_count": null,
   "metadata": {
    "collapsed": true,
    "id": "tQZCn2dxFtIl"
   },
   "outputs": [],
   "source": [
    "# Insert your code for getting overfitting, underfitting and just right fitting"
   ]
  },
  {
   "cell_type": "markdown",
   "metadata": {},
   "source": [
    "<font color=\"red\"> **Answer and code from peergrade submission 2:**\n",
    "    \n",
    "To combat the over and underfitting, some checks can be implemented to terminate the training in each case. For example, if the training loss becomes significantly lower than the test loss, the training could be terminated to prevent further overfitting. Both these methods have been implemented in the code.\n",
    "\n",
    "I did not observe a big difference in validation and test loss in this case.\n",
    "\n",
    "It is important to keep these seperated, as it is still possible to introduce overfitting, by training on several hyperparameters and finally finding something that gives a low test-error. In this way you have actually ended up also fitting to the test data by trying several hyperparameters. Therefore a validation set should always be used to give the final evaluation of the model."
   ]
  },
  {
   "cell_type": "code",
   "execution_count": null,
   "metadata": {},
   "outputs": [],
   "source": [
    "# Insert your code for getting overfitting, underfitting and just right fitting\n",
    "# Overfitting check\n",
    "    if len(val_loss) > 5 and val_loss[-1] < Loss_validation.v:\n",
    "        print(\"Overfitting: Terminated\")\n",
    "        val_loss.append(Loss_validation.v)\n",
    "        break\n",
    "\n",
    "# Underfitting check\n",
    "    if len(train_loss) > 5 and train_loss[-1] < Loss.v:\n",
    "        print(\"Underfitting: Terminated\")\n",
    "        train_loss.append(Loss.v)\n",
    "        break"
   ]
  },
  {
   "cell_type": "markdown",
   "metadata": {},
   "source": [
    "<font color=\"red\"> **Answer and code from peergrade submission 2:** The validation loss is there to give a breaf overview of the network's performance after each iteration of refining the neural network. This is useful because by utilizing these losses we can compare the models' perfomance and tune the hyperparameters to get the best possible model (before finalizing the model). By modifying the hyperparameters using the validation losses to get a better performing NN, the accuracy is no longer unbiased regarding the validation loss. Because of this, we need a dataset to check the unbiased accuracy of the final, trained network. The test loss is to give an unbiased estimate of the final, trained model's performance."
   ]
  },
  {
   "cell_type": "code",
   "execution_count": null,
   "metadata": {
    "id": "X4v5Y6_zeodo"
   },
   "outputs": [],
   "source": [
    "def fit_model(epochs, learning_rate, neural_network, y_train_data, x_train_data, y_validation_data, x_validation_data, y_test_data, x_test_data):\n",
    "    train_loss = []\n",
    "    val_loss = []\n",
    "\n",
    "    for e in range(epochs):\n",
    "      \n",
    "        # Forward pass and loss computation\n",
    "        Loss = squared_loss(y_train_data, forward(x_train_data, neural_network))\n",
    "\n",
    "        # Backward pass\n",
    "        Loss.backward()\n",
    "\n",
    "        # gradient descent update\n",
    "        update_parameters(parameters(neural_network), learning_rate)\n",
    "        zero_gradients(parameters(neural_network))\n",
    "\n",
    "        # Training loss\n",
    "        train_loss.append(Loss.v)\n",
    "\n",
    "        # Validation\n",
    "        Loss_validation = squared_loss(y_validation_data, forward(x_validation_data, neural_network))\n",
    "        val_loss.append(Loss_validation.v)\n",
    "\n",
    "        if e%10==0:\n",
    "            print(\"{:4d}\".format(e),\n",
    "                \"({:5.2f}%)\".format(e/epochs*100), \n",
    "                \"Train loss: {:4.3f} \\t Validation loss: {:4.3f}\".format(train_loss[-1], val_loss[-1]))\n",
    "\n",
    "        plt.plot(range(len(train_loss)), train_loss);\n",
    "        plt.plot(range(len(val_loss)), val_loss);\n",
    "        plt.show()\n",
    "\n",
    "        Loss_test = squared_loss(y_test_data, forward(x_test_data, neural_network))\n",
    "        print(\"Test loss:  {:4.3f}\".format(Loss_test.v))\n",
    "\n",
    "        output_test = forward(x_test_data, neural_network)\n",
    "        y_test_np = Var_to_nparray(y_test_data)\n",
    "        x_test_np = Var_to_nparray(x_test_data)\n",
    "        x_train_np = Var_to_nparray(x_train_data)\n",
    "        y_train_np = Var_to_nparray(y_train_data)\n",
    "\n",
    "        if D1:\n",
    "            plt.scatter(x_train_np, y_train_np, label=\"train data\");\n",
    "            plt.scatter(x_test_np, Var_to_nparray(output_test), label=\"test prediction\");\n",
    "            plt.scatter(x_test_np, y_test_np, label=\"test data\");\n",
    "            plt.legend();\n",
    "            plt.xlabel(\"x\");\n",
    "            plt.ylabel(\"y\");\n",
    "        else:\n",
    "            plt.scatter(x_train_np[:,1], y_train_data, label=\"train data\");\n",
    "            plt.scatter(x_test_np[:,1], Var_to_nparray(output_test), label=\"test data prediction\");\n",
    "            plt.scatter(x_test_np[:,1], y_test_np, label=\"test data\");\n",
    "            plt.legend();\n",
    "            plt.xlabel(\"x\");\n",
    "            plt.ylabel(\"y\");"
   ]
  },
  {
   "cell_type": "code",
   "execution_count": null,
   "metadata": {
    "colab": {
     "base_uri": "https://localhost:8080/",
     "height": 1000
    },
    "collapsed": true,
    "executionInfo": {
     "elapsed": 32241,
     "status": "ok",
     "timestamp": 1631464535935,
     "user": {
      "displayName": "Krupinszki Balázs",
      "photoUrl": "",
      "userId": "06787498654363362395"
     },
     "user_tz": -120
    },
    "id": "tQZCn2dxFtIl",
    "outputId": "fe22115f-4ff8-4697-cbe7-10fb923998cd"
   },
   "outputs": [
    {
     "name": "stdout",
     "output_type": "stream",
     "text": [
      "Overfitting can be caused by insufficient training data, too complex NN, and even overtraining (if the NN was able to 'learn' the general features but we run even more epochs, \n",
      "it can 'fixate' on the training data rather than a general overview and basically memorize the inputs)\n",
      "\n",
      "   0 ( 0.00%) Train loss: 9.722 \t Validation loss: 4.622\n",
      "  10 ( 0.25%) Train loss: 9.642 \t Validation loss: 4.562\n",
      "  20 ( 0.50%) Train loss: 9.562 \t Validation loss: 4.503\n",
      "  30 ( 0.75%) Train loss: 9.482 \t Validation loss: 4.446\n",
      "  40 ( 1.00%) Train loss: 9.401 \t Validation loss: 4.389\n",
      "  50 ( 1.25%) Train loss: 9.321 \t Validation loss: 4.333\n",
      "  60 ( 1.50%) Train loss: 9.239 \t Validation loss: 4.278\n",
      "  70 ( 1.75%) Train loss: 9.158 \t Validation loss: 4.223\n",
      "  80 ( 2.00%) Train loss: 9.076 \t Validation loss: 4.168\n",
      "  90 ( 2.25%) Train loss: 8.993 \t Validation loss: 4.113\n",
      " 100 ( 2.50%) Train loss: 8.911 \t Validation loss: 4.059\n",
      " 110 ( 2.75%) Train loss: 8.827 \t Validation loss: 4.005\n",
      " 120 ( 3.00%) Train loss: 8.742 \t Validation loss: 3.951\n",
      " 130 ( 3.25%) Train loss: 8.655 \t Validation loss: 3.895\n",
      " 140 ( 3.50%) Train loss: 8.566 \t Validation loss: 3.838\n",
      " 150 ( 3.75%) Train loss: 8.475 \t Validation loss: 3.781\n",
      " 160 ( 4.00%) Train loss: 8.382 \t Validation loss: 3.724\n",
      " 170 ( 4.25%) Train loss: 8.286 \t Validation loss: 3.665\n",
      " 180 ( 4.50%) Train loss: 8.188 \t Validation loss: 3.605\n",
      " 190 ( 4.75%) Train loss: 8.087 \t Validation loss: 3.544\n",
      " 200 ( 5.00%) Train loss: 7.983 \t Validation loss: 3.482\n",
      " 210 ( 5.25%) Train loss: 7.877 \t Validation loss: 3.419\n",
      " 220 ( 5.50%) Train loss: 7.768 \t Validation loss: 3.354\n",
      " 230 ( 5.75%) Train loss: 7.656 \t Validation loss: 3.288\n",
      " 240 ( 6.00%) Train loss: 7.541 \t Validation loss: 3.221\n",
      " 250 ( 6.25%) Train loss: 7.423 \t Validation loss: 3.152\n",
      " 260 ( 6.50%) Train loss: 7.302 \t Validation loss: 3.082\n",
      " 270 ( 6.75%) Train loss: 7.179 \t Validation loss: 3.011\n",
      " 280 ( 7.00%) Train loss: 7.053 \t Validation loss: 2.938\n",
      " 290 ( 7.25%) Train loss: 6.923 \t Validation loss: 2.864\n",
      " 300 ( 7.50%) Train loss: 6.791 \t Validation loss: 2.790\n",
      " 310 ( 7.75%) Train loss: 6.657 \t Validation loss: 2.714\n",
      " 320 ( 8.00%) Train loss: 6.520 \t Validation loss: 2.637\n",
      " 330 ( 8.25%) Train loss: 6.380 \t Validation loss: 2.560\n",
      " 340 ( 8.50%) Train loss: 6.238 \t Validation loss: 2.482\n",
      " 350 ( 8.75%) Train loss: 6.094 \t Validation loss: 2.403\n",
      " 360 ( 9.00%) Train loss: 5.948 \t Validation loss: 2.324\n",
      " 370 ( 9.25%) Train loss: 5.800 \t Validation loss: 2.245\n",
      " 380 ( 9.50%) Train loss: 5.650 \t Validation loss: 2.165\n",
      " 390 ( 9.75%) Train loss: 5.499 \t Validation loss: 2.086\n",
      " 400 (10.00%) Train loss: 5.347 \t Validation loss: 2.007\n",
      " 410 (10.25%) Train loss: 5.194 \t Validation loss: 1.928\n",
      " 420 (10.50%) Train loss: 5.041 \t Validation loss: 1.850\n",
      " 430 (10.75%) Train loss: 4.886 \t Validation loss: 1.772\n",
      " 440 (11.00%) Train loss: 4.732 \t Validation loss: 1.696\n",
      " 450 (11.25%) Train loss: 4.578 \t Validation loss: 1.621\n",
      " 460 (11.50%) Train loss: 4.424 \t Validation loss: 1.547\n",
      " 470 (11.75%) Train loss: 4.272 \t Validation loss: 1.475\n",
      " 480 (12.00%) Train loss: 4.120 \t Validation loss: 1.404\n",
      " 490 (12.25%) Train loss: 3.969 \t Validation loss: 1.336\n",
      " 500 (12.50%) Train loss: 3.820 \t Validation loss: 1.269\n",
      " 510 (12.75%) Train loss: 3.673 \t Validation loss: 1.205\n",
      " 520 (13.00%) Train loss: 3.528 \t Validation loss: 1.143\n",
      " 530 (13.25%) Train loss: 3.386 \t Validation loss: 1.084\n",
      " 540 (13.50%) Train loss: 3.246 \t Validation loss: 1.028\n",
      " 550 (13.75%) Train loss: 3.109 \t Validation loss: 0.975\n",
      " 560 (14.00%) Train loss: 2.975 \t Validation loss: 0.924\n",
      " 570 (14.25%) Train loss: 2.844 \t Validation loss: 0.876\n",
      " 580 (14.50%) Train loss: 2.717 \t Validation loss: 0.832\n",
      " 590 (14.75%) Train loss: 2.594 \t Validation loss: 0.790\n",
      " 600 (15.00%) Train loss: 2.474 \t Validation loss: 0.751\n",
      " 610 (15.25%) Train loss: 2.358 \t Validation loss: 0.716\n",
      " 620 (15.50%) Train loss: 2.247 \t Validation loss: 0.683\n",
      " 630 (15.75%) Train loss: 2.139 \t Validation loss: 0.654\n",
      " 640 (16.00%) Train loss: 2.035 \t Validation loss: 0.627\n",
      " 650 (16.25%) Train loss: 1.936 \t Validation loss: 0.603\n",
      " 660 (16.50%) Train loss: 1.841 \t Validation loss: 0.582\n",
      " 670 (16.75%) Train loss: 1.750 \t Validation loss: 0.564\n",
      " 680 (17.00%) Train loss: 1.663 \t Validation loss: 0.549\n",
      " 690 (17.25%) Train loss: 1.581 \t Validation loss: 0.536\n",
      " 700 (17.50%) Train loss: 1.502 \t Validation loss: 0.526\n",
      " 710 (17.75%) Train loss: 1.427 \t Validation loss: 0.518\n",
      " 720 (18.00%) Train loss: 1.357 \t Validation loss: 0.512\n",
      " 730 (18.25%) Train loss: 1.290 \t Validation loss: 0.509\n",
      " 740 (18.50%) Train loss: 1.227 \t Validation loss: 0.507\n",
      " 750 (18.75%) Train loss: 1.167 \t Validation loss: 0.508\n",
      " 760 (19.00%) Train loss: 1.111 \t Validation loss: 0.510\n",
      " 770 (19.25%) Train loss: 1.058 \t Validation loss: 0.513\n",
      " 780 (19.50%) Train loss: 1.009 \t Validation loss: 0.519\n",
      " 790 (19.75%) Train loss: 0.962 \t Validation loss: 0.525\n",
      " 800 (20.00%) Train loss: 0.919 \t Validation loss: 0.533\n",
      " 810 (20.25%) Train loss: 0.878 \t Validation loss: 0.542\n",
      " 820 (20.50%) Train loss: 0.840 \t Validation loss: 0.552\n",
      " 830 (20.75%) Train loss: 0.805 \t Validation loss: 0.563\n",
      " 840 (21.00%) Train loss: 0.772 \t Validation loss: 0.574\n",
      " 850 (21.25%) Train loss: 0.741 \t Validation loss: 0.586\n",
      " 860 (21.50%) Train loss: 0.713 \t Validation loss: 0.599\n",
      " 870 (21.75%) Train loss: 0.686 \t Validation loss: 0.613\n",
      " 880 (22.00%) Train loss: 0.661 \t Validation loss: 0.626\n",
      " 890 (22.25%) Train loss: 0.638 \t Validation loss: 0.641\n",
      " 900 (22.50%) Train loss: 0.617 \t Validation loss: 0.655\n",
      " 910 (22.75%) Train loss: 0.597 \t Validation loss: 0.669\n",
      " 920 (23.00%) Train loss: 0.579 \t Validation loss: 0.684\n",
      " 930 (23.25%) Train loss: 0.562 \t Validation loss: 0.699\n",
      " 940 (23.50%) Train loss: 0.546 \t Validation loss: 0.713\n",
      " 950 (23.75%) Train loss: 0.532 \t Validation loss: 0.728\n",
      " 960 (24.00%) Train loss: 0.518 \t Validation loss: 0.742\n",
      " 970 (24.25%) Train loss: 0.506 \t Validation loss: 0.757\n",
      " 980 (24.50%) Train loss: 0.494 \t Validation loss: 0.771\n",
      " 990 (24.75%) Train loss: 0.484 \t Validation loss: 0.785\n",
      "1000 (25.00%) Train loss: 0.474 \t Validation loss: 0.799\n",
      "1010 (25.25%) Train loss: 0.465 \t Validation loss: 0.813\n",
      "1020 (25.50%) Train loss: 0.456 \t Validation loss: 0.826\n",
      "1030 (25.75%) Train loss: 0.448 \t Validation loss: 0.839\n",
      "1040 (26.00%) Train loss: 0.441 \t Validation loss: 0.852\n",
      "1050 (26.25%) Train loss: 0.434 \t Validation loss: 0.864\n",
      "1060 (26.50%) Train loss: 0.428 \t Validation loss: 0.877\n",
      "1070 (26.75%) Train loss: 0.422 \t Validation loss: 0.888\n",
      "1080 (27.00%) Train loss: 0.417 \t Validation loss: 0.900\n",
      "1090 (27.25%) Train loss: 0.412 \t Validation loss: 0.911\n",
      "1100 (27.50%) Train loss: 0.407 \t Validation loss: 0.922\n",
      "1110 (27.75%) Train loss: 0.402 \t Validation loss: 0.933\n",
      "1120 (28.00%) Train loss: 0.398 \t Validation loss: 0.943\n",
      "1130 (28.25%) Train loss: 0.394 \t Validation loss: 0.953\n",
      "1140 (28.50%) Train loss: 0.391 \t Validation loss: 0.963\n",
      "1150 (28.75%) Train loss: 0.387 \t Validation loss: 0.972\n",
      "1160 (29.00%) Train loss: 0.384 \t Validation loss: 0.981\n",
      "1170 (29.25%) Train loss: 0.381 \t Validation loss: 0.990\n",
      "1180 (29.50%) Train loss: 0.378 \t Validation loss: 0.998\n",
      "1190 (29.75%) Train loss: 0.376 \t Validation loss: 1.006\n",
      "1200 (30.00%) Train loss: 0.373 \t Validation loss: 1.014\n",
      "1210 (30.25%) Train loss: 0.371 \t Validation loss: 1.022\n",
      "1220 (30.50%) Train loss: 0.368 \t Validation loss: 1.029\n",
      "1230 (30.75%) Train loss: 0.366 \t Validation loss: 1.036\n",
      "1240 (31.00%) Train loss: 0.364 \t Validation loss: 1.043\n",
      "1250 (31.25%) Train loss: 0.362 \t Validation loss: 1.050\n",
      "1260 (31.50%) Train loss: 0.360 \t Validation loss: 1.056\n",
      "1270 (31.75%) Train loss: 0.358 \t Validation loss: 1.062\n",
      "1280 (32.00%) Train loss: 0.357 \t Validation loss: 1.068\n",
      "1290 (32.25%) Train loss: 0.355 \t Validation loss: 1.074\n",
      "1300 (32.50%) Train loss: 0.353 \t Validation loss: 1.079\n",
      "1310 (32.75%) Train loss: 0.352 \t Validation loss: 1.085\n",
      "1320 (33.00%) Train loss: 0.350 \t Validation loss: 1.090\n",
      "1330 (33.25%) Train loss: 0.349 \t Validation loss: 1.095\n",
      "1340 (33.50%) Train loss: 0.347 \t Validation loss: 1.099\n",
      "1350 (33.75%) Train loss: 0.346 \t Validation loss: 1.104\n",
      "1360 (34.00%) Train loss: 0.345 \t Validation loss: 1.108\n",
      "1370 (34.25%) Train loss: 0.343 \t Validation loss: 1.113\n",
      "1380 (34.50%) Train loss: 0.342 \t Validation loss: 1.117\n",
      "1390 (34.75%) Train loss: 0.341 \t Validation loss: 1.121\n",
      "1400 (35.00%) Train loss: 0.340 \t Validation loss: 1.125\n",
      "1410 (35.25%) Train loss: 0.338 \t Validation loss: 1.128\n",
      "1420 (35.50%) Train loss: 0.337 \t Validation loss: 1.132\n",
      "1430 (35.75%) Train loss: 0.336 \t Validation loss: 1.135\n",
      "1440 (36.00%) Train loss: 0.335 \t Validation loss: 1.139\n",
      "1450 (36.25%) Train loss: 0.334 \t Validation loss: 1.142\n",
      "1460 (36.50%) Train loss: 0.333 \t Validation loss: 1.145\n",
      "1470 (36.75%) Train loss: 0.332 \t Validation loss: 1.148\n",
      "1480 (37.00%) Train loss: 0.331 \t Validation loss: 1.151\n",
      "1490 (37.25%) Train loss: 0.330 \t Validation loss: 1.154\n",
      "1500 (37.50%) Train loss: 0.329 \t Validation loss: 1.157\n",
      "1510 (37.75%) Train loss: 0.328 \t Validation loss: 1.160\n",
      "1520 (38.00%) Train loss: 0.327 \t Validation loss: 1.162\n",
      "1530 (38.25%) Train loss: 0.326 \t Validation loss: 1.165\n",
      "1540 (38.50%) Train loss: 0.325 \t Validation loss: 1.167\n",
      "1550 (38.75%) Train loss: 0.325 \t Validation loss: 1.169\n",
      "1560 (39.00%) Train loss: 0.324 \t Validation loss: 1.172\n",
      "1570 (39.25%) Train loss: 0.323 \t Validation loss: 1.174\n",
      "1580 (39.50%) Train loss: 0.322 \t Validation loss: 1.176\n",
      "1590 (39.75%) Train loss: 0.321 \t Validation loss: 1.178\n",
      "1600 (40.00%) Train loss: 0.320 \t Validation loss: 1.180\n",
      "1610 (40.25%) Train loss: 0.320 \t Validation loss: 1.182\n",
      "1620 (40.50%) Train loss: 0.319 \t Validation loss: 1.184\n",
      "1630 (40.75%) Train loss: 0.318 \t Validation loss: 1.186\n",
      "1640 (41.00%) Train loss: 0.317 \t Validation loss: 1.188\n",
      "1650 (41.25%) Train loss: 0.317 \t Validation loss: 1.190\n",
      "1660 (41.50%) Train loss: 0.316 \t Validation loss: 1.192\n",
      "1670 (41.75%) Train loss: 0.315 \t Validation loss: 1.194\n",
      "1680 (42.00%) Train loss: 0.314 \t Validation loss: 1.195\n",
      "1690 (42.25%) Train loss: 0.314 \t Validation loss: 1.197\n",
      "1700 (42.50%) Train loss: 0.313 \t Validation loss: 1.198\n",
      "1710 (42.75%) Train loss: 0.312 \t Validation loss: 1.200\n",
      "1720 (43.00%) Train loss: 0.312 \t Validation loss: 1.202\n",
      "1730 (43.25%) Train loss: 0.311 \t Validation loss: 1.203\n",
      "1740 (43.50%) Train loss: 0.310 \t Validation loss: 1.205\n",
      "1750 (43.75%) Train loss: 0.310 \t Validation loss: 1.206\n",
      "1760 (44.00%) Train loss: 0.309 \t Validation loss: 1.207\n",
      "1770 (44.25%) Train loss: 0.308 \t Validation loss: 1.209\n",
      "1780 (44.50%) Train loss: 0.308 \t Validation loss: 1.210\n",
      "1790 (44.75%) Train loss: 0.307 \t Validation loss: 1.211\n",
      "1800 (45.00%) Train loss: 0.306 \t Validation loss: 1.213\n",
      "1810 (45.25%) Train loss: 0.306 \t Validation loss: 1.214\n",
      "1820 (45.50%) Train loss: 0.305 \t Validation loss: 1.215\n",
      "1830 (45.75%) Train loss: 0.305 \t Validation loss: 1.216\n",
      "1840 (46.00%) Train loss: 0.304 \t Validation loss: 1.218\n",
      "1850 (46.25%) Train loss: 0.303 \t Validation loss: 1.219\n",
      "1860 (46.50%) Train loss: 0.303 \t Validation loss: 1.220\n",
      "1870 (46.75%) Train loss: 0.302 \t Validation loss: 1.221\n",
      "1880 (47.00%) Train loss: 0.302 \t Validation loss: 1.222\n",
      "1890 (47.25%) Train loss: 0.301 \t Validation loss: 1.224\n",
      "1900 (47.50%) Train loss: 0.301 \t Validation loss: 1.225\n",
      "1910 (47.75%) Train loss: 0.300 \t Validation loss: 1.226\n",
      "1920 (48.00%) Train loss: 0.300 \t Validation loss: 1.227\n",
      "1930 (48.25%) Train loss: 0.299 \t Validation loss: 1.228\n",
      "1940 (48.50%) Train loss: 0.299 \t Validation loss: 1.228\n",
      "1950 (48.75%) Train loss: 0.298 \t Validation loss: 1.229\n",
      "1960 (49.00%) Train loss: 0.298 \t Validation loss: 1.229\n",
      "1970 (49.25%) Train loss: 0.297 \t Validation loss: 1.230\n",
      "1980 (49.50%) Train loss: 0.297 \t Validation loss: 1.230\n",
      "1990 (49.75%) Train loss: 0.296 \t Validation loss: 1.231\n",
      "2000 (50.00%) Train loss: 0.296 \t Validation loss: 1.231\n",
      "2010 (50.25%) Train loss: 0.295 \t Validation loss: 1.232\n",
      "2020 (50.50%) Train loss: 0.295 \t Validation loss: 1.232\n",
      "2030 (50.75%) Train loss: 0.294 \t Validation loss: 1.233\n",
      "2040 (51.00%) Train loss: 0.294 \t Validation loss: 1.233\n",
      "2050 (51.25%) Train loss: 0.293 \t Validation loss: 1.233\n",
      "2060 (51.50%) Train loss: 0.293 \t Validation loss: 1.234\n",
      "2070 (51.75%) Train loss: 0.292 \t Validation loss: 1.234\n",
      "2080 (52.00%) Train loss: 0.292 \t Validation loss: 1.234\n",
      "2090 (52.25%) Train loss: 0.292 \t Validation loss: 1.235\n",
      "2100 (52.50%) Train loss: 0.291 \t Validation loss: 1.235\n",
      "2110 (52.75%) Train loss: 0.291 \t Validation loss: 1.235\n",
      "2120 (53.00%) Train loss: 0.290 \t Validation loss: 1.235\n",
      "2130 (53.25%) Train loss: 0.290 \t Validation loss: 1.235\n",
      "2140 (53.50%) Train loss: 0.289 \t Validation loss: 1.236\n",
      "2150 (53.75%) Train loss: 0.289 \t Validation loss: 1.236\n",
      "2160 (54.00%) Train loss: 0.289 \t Validation loss: 1.236\n",
      "2170 (54.25%) Train loss: 0.288 \t Validation loss: 1.236\n",
      "2180 (54.50%) Train loss: 0.288 \t Validation loss: 1.236\n",
      "2190 (54.75%) Train loss: 0.288 \t Validation loss: 1.236\n",
      "2200 (55.00%) Train loss: 0.287 \t Validation loss: 1.237\n",
      "2210 (55.25%) Train loss: 0.287 \t Validation loss: 1.237\n",
      "2220 (55.50%) Train loss: 0.286 \t Validation loss: 1.237\n",
      "2230 (55.75%) Train loss: 0.286 \t Validation loss: 1.237\n",
      "2240 (56.00%) Train loss: 0.286 \t Validation loss: 1.237\n",
      "2250 (56.25%) Train loss: 0.285 \t Validation loss: 1.237\n",
      "2260 (56.50%) Train loss: 0.285 \t Validation loss: 1.237\n",
      "2270 (56.75%) Train loss: 0.285 \t Validation loss: 1.238\n",
      "2280 (57.00%) Train loss: 0.284 \t Validation loss: 1.238\n",
      "2290 (57.25%) Train loss: 0.284 \t Validation loss: 1.238\n",
      "2300 (57.50%) Train loss: 0.283 \t Validation loss: 1.238\n",
      "2310 (57.75%) Train loss: 0.283 \t Validation loss: 1.238\n",
      "2320 (58.00%) Train loss: 0.283 \t Validation loss: 1.238\n",
      "2330 (58.25%) Train loss: 0.282 \t Validation loss: 1.238\n",
      "2340 (58.50%) Train loss: 0.282 \t Validation loss: 1.238\n",
      "2350 (58.75%) Train loss: 0.282 \t Validation loss: 1.239\n",
      "2360 (59.00%) Train loss: 0.281 \t Validation loss: 1.239\n",
      "2370 (59.25%) Train loss: 0.281 \t Validation loss: 1.239\n",
      "2380 (59.50%) Train loss: 0.281 \t Validation loss: 1.239\n",
      "2390 (59.75%) Train loss: 0.280 \t Validation loss: 1.239\n",
      "2400 (60.00%) Train loss: 0.280 \t Validation loss: 1.239\n",
      "2410 (60.25%) Train loss: 0.280 \t Validation loss: 1.239\n",
      "2420 (60.50%) Train loss: 0.280 \t Validation loss: 1.239\n",
      "2430 (60.75%) Train loss: 0.279 \t Validation loss: 1.239\n",
      "2440 (61.00%) Train loss: 0.279 \t Validation loss: 1.239\n",
      "2450 (61.25%) Train loss: 0.279 \t Validation loss: 1.239\n",
      "2460 (61.50%) Train loss: 0.278 \t Validation loss: 1.240\n",
      "2470 (61.75%) Train loss: 0.278 \t Validation loss: 1.240\n",
      "2480 (62.00%) Train loss: 0.278 \t Validation loss: 1.240\n",
      "2490 (62.25%) Train loss: 0.277 \t Validation loss: 1.240\n",
      "2500 (62.50%) Train loss: 0.277 \t Validation loss: 1.240\n",
      "2510 (62.75%) Train loss: 0.277 \t Validation loss: 1.240\n",
      "2520 (63.00%) Train loss: 0.277 \t Validation loss: 1.240\n",
      "2530 (63.25%) Train loss: 0.276 \t Validation loss: 1.240\n",
      "2540 (63.50%) Train loss: 0.276 \t Validation loss: 1.240\n",
      "2550 (63.75%) Train loss: 0.276 \t Validation loss: 1.240\n",
      "2560 (64.00%) Train loss: 0.275 \t Validation loss: 1.240\n",
      "2570 (64.25%) Train loss: 0.275 \t Validation loss: 1.240\n",
      "2580 (64.50%) Train loss: 0.275 \t Validation loss: 1.240\n",
      "2590 (64.75%) Train loss: 0.275 \t Validation loss: 1.240\n",
      "2600 (65.00%) Train loss: 0.274 \t Validation loss: 1.240\n",
      "2610 (65.25%) Train loss: 0.274 \t Validation loss: 1.240\n",
      "2620 (65.50%) Train loss: 0.274 \t Validation loss: 1.241\n",
      "2630 (65.75%) Train loss: 0.274 \t Validation loss: 1.241\n",
      "2640 (66.00%) Train loss: 0.273 \t Validation loss: 1.241\n",
      "2650 (66.25%) Train loss: 0.273 \t Validation loss: 1.241\n",
      "2660 (66.50%) Train loss: 0.273 \t Validation loss: 1.241\n",
      "2670 (66.75%) Train loss: 0.273 \t Validation loss: 1.241\n",
      "2680 (67.00%) Train loss: 0.272 \t Validation loss: 1.241\n",
      "2690 (67.25%) Train loss: 0.272 \t Validation loss: 1.241\n",
      "2700 (67.50%) Train loss: 0.272 \t Validation loss: 1.241\n",
      "2710 (67.75%) Train loss: 0.271 \t Validation loss: 1.241\n",
      "2720 (68.00%) Train loss: 0.271 \t Validation loss: 1.241\n",
      "2730 (68.25%) Train loss: 0.271 \t Validation loss: 1.241\n",
      "2740 (68.50%) Train loss: 0.271 \t Validation loss: 1.241\n",
      "2750 (68.75%) Train loss: 0.271 \t Validation loss: 1.241\n",
      "2760 (69.00%) Train loss: 0.270 \t Validation loss: 1.241\n",
      "2770 (69.25%) Train loss: 0.270 \t Validation loss: 1.241\n",
      "2780 (69.50%) Train loss: 0.270 \t Validation loss: 1.241\n",
      "2790 (69.75%) Train loss: 0.270 \t Validation loss: 1.241\n",
      "2800 (70.00%) Train loss: 0.269 \t Validation loss: 1.241\n",
      "2810 (70.25%) Train loss: 0.269 \t Validation loss: 1.241\n",
      "2820 (70.50%) Train loss: 0.269 \t Validation loss: 1.241\n",
      "2830 (70.75%) Train loss: 0.269 \t Validation loss: 1.241\n",
      "2840 (71.00%) Train loss: 0.268 \t Validation loss: 1.241\n",
      "2850 (71.25%) Train loss: 0.268 \t Validation loss: 1.241\n",
      "2860 (71.50%) Train loss: 0.268 \t Validation loss: 1.241\n",
      "2870 (71.75%) Train loss: 0.268 \t Validation loss: 1.241\n",
      "2880 (72.00%) Train loss: 0.268 \t Validation loss: 1.241\n",
      "2890 (72.25%) Train loss: 0.267 \t Validation loss: 1.241\n",
      "2900 (72.50%) Train loss: 0.267 \t Validation loss: 1.241\n",
      "2910 (72.75%) Train loss: 0.267 \t Validation loss: 1.241\n",
      "2920 (73.00%) Train loss: 0.267 \t Validation loss: 1.241\n",
      "2930 (73.25%) Train loss: 0.266 \t Validation loss: 1.241\n",
      "2940 (73.50%) Train loss: 0.266 \t Validation loss: 1.241\n",
      "2950 (73.75%) Train loss: 0.266 \t Validation loss: 1.241\n",
      "2960 (74.00%) Train loss: 0.266 \t Validation loss: 1.241\n",
      "2970 (74.25%) Train loss: 0.266 \t Validation loss: 1.241\n",
      "2980 (74.50%) Train loss: 0.265 \t Validation loss: 1.241\n",
      "2990 (74.75%) Train loss: 0.265 \t Validation loss: 1.241\n",
      "3000 (75.00%) Train loss: 0.265 \t Validation loss: 1.241\n",
      "3010 (75.25%) Train loss: 0.265 \t Validation loss: 1.241\n",
      "3020 (75.50%) Train loss: 0.265 \t Validation loss: 1.241\n",
      "3030 (75.75%) Train loss: 0.264 \t Validation loss: 1.241\n",
      "3040 (76.00%) Train loss: 0.264 \t Validation loss: 1.241\n",
      "3050 (76.25%) Train loss: 0.264 \t Validation loss: 1.241\n",
      "3060 (76.50%) Train loss: 0.264 \t Validation loss: 1.241\n",
      "3070 (76.75%) Train loss: 0.264 \t Validation loss: 1.241\n",
      "3080 (77.00%) Train loss: 0.263 \t Validation loss: 1.241\n",
      "3090 (77.25%) Train loss: 0.263 \t Validation loss: 1.241\n",
      "3100 (77.50%) Train loss: 0.263 \t Validation loss: 1.241\n",
      "3110 (77.75%) Train loss: 0.263 \t Validation loss: 1.241\n",
      "3120 (78.00%) Train loss: 0.263 \t Validation loss: 1.241\n",
      "3130 (78.25%) Train loss: 0.262 \t Validation loss: 1.241\n",
      "3140 (78.50%) Train loss: 0.262 \t Validation loss: 1.241\n",
      "3150 (78.75%) Train loss: 0.262 \t Validation loss: 1.241\n",
      "3160 (79.00%) Train loss: 0.262 \t Validation loss: 1.241\n",
      "3170 (79.25%) Train loss: 0.262 \t Validation loss: 1.241\n",
      "3180 (79.50%) Train loss: 0.261 \t Validation loss: 1.241\n",
      "3190 (79.75%) Train loss: 0.261 \t Validation loss: 1.241\n",
      "3200 (80.00%) Train loss: 0.261 \t Validation loss: 1.241\n",
      "3210 (80.25%) Train loss: 0.261 \t Validation loss: 1.241\n",
      "3220 (80.50%) Train loss: 0.261 \t Validation loss: 1.241\n",
      "3230 (80.75%) Train loss: 0.260 \t Validation loss: 1.241\n",
      "3240 (81.00%) Train loss: 0.260 \t Validation loss: 1.241\n",
      "3250 (81.25%) Train loss: 0.260 \t Validation loss: 1.241\n",
      "3260 (81.50%) Train loss: 0.260 \t Validation loss: 1.241\n",
      "3270 (81.75%) Train loss: 0.260 \t Validation loss: 1.241\n",
      "3280 (82.00%) Train loss: 0.259 \t Validation loss: 1.241\n",
      "3290 (82.25%) Train loss: 0.259 \t Validation loss: 1.241\n",
      "3300 (82.50%) Train loss: 0.259 \t Validation loss: 1.241\n",
      "3310 (82.75%) Train loss: 0.259 \t Validation loss: 1.241\n",
      "3320 (83.00%) Train loss: 0.259 \t Validation loss: 1.241\n",
      "3330 (83.25%) Train loss: 0.259 \t Validation loss: 1.241\n",
      "3340 (83.50%) Train loss: 0.258 \t Validation loss: 1.241\n",
      "3350 (83.75%) Train loss: 0.258 \t Validation loss: 1.240\n",
      "3360 (84.00%) Train loss: 0.258 \t Validation loss: 1.240\n",
      "3370 (84.25%) Train loss: 0.258 \t Validation loss: 1.240\n",
      "3380 (84.50%) Train loss: 0.258 \t Validation loss: 1.240\n",
      "3390 (84.75%) Train loss: 0.258 \t Validation loss: 1.240\n",
      "3400 (85.00%) Train loss: 0.257 \t Validation loss: 1.240\n",
      "3410 (85.25%) Train loss: 0.257 \t Validation loss: 1.240\n",
      "3420 (85.50%) Train loss: 0.257 \t Validation loss: 1.240\n",
      "3430 (85.75%) Train loss: 0.257 \t Validation loss: 1.240\n",
      "3440 (86.00%) Train loss: 0.257 \t Validation loss: 1.240\n",
      "3450 (86.25%) Train loss: 0.256 \t Validation loss: 1.240\n",
      "3460 (86.50%) Train loss: 0.256 \t Validation loss: 1.240\n",
      "3470 (86.75%) Train loss: 0.256 \t Validation loss: 1.240\n",
      "3480 (87.00%) Train loss: 0.256 \t Validation loss: 1.240\n",
      "3490 (87.25%) Train loss: 0.256 \t Validation loss: 1.240\n",
      "3500 (87.50%) Train loss: 0.256 \t Validation loss: 1.240\n",
      "3510 (87.75%) Train loss: 0.255 \t Validation loss: 1.240\n",
      "3520 (88.00%) Train loss: 0.255 \t Validation loss: 1.240\n",
      "3530 (88.25%) Train loss: 0.255 \t Validation loss: 1.240\n",
      "3540 (88.50%) Train loss: 0.254 \t Validation loss: 1.240\n",
      "3550 (88.75%) Train loss: 0.254 \t Validation loss: 1.240\n",
      "3560 (89.00%) Train loss: 0.253 \t Validation loss: 1.240\n",
      "3570 (89.25%) Train loss: 0.253 \t Validation loss: 1.240\n",
      "3580 (89.50%) Train loss: 0.253 \t Validation loss: 1.240\n",
      "3590 (89.75%) Train loss: 0.252 \t Validation loss: 1.240\n",
      "3600 (90.00%) Train loss: 0.252 \t Validation loss: 1.240\n",
      "3610 (90.25%) Train loss: 0.252 \t Validation loss: 1.240\n",
      "3620 (90.50%) Train loss: 0.251 \t Validation loss: 1.240\n",
      "3630 (90.75%) Train loss: 0.251 \t Validation loss: 1.240\n",
      "3640 (91.00%) Train loss: 0.251 \t Validation loss: 1.240\n",
      "3650 (91.25%) Train loss: 0.250 \t Validation loss: 1.240\n",
      "3660 (91.50%) Train loss: 0.250 \t Validation loss: 1.241\n",
      "3670 (91.75%) Train loss: 0.250 \t Validation loss: 1.241\n",
      "3680 (92.00%) Train loss: 0.249 \t Validation loss: 1.241\n",
      "3690 (92.25%) Train loss: 0.249 \t Validation loss: 1.241\n",
      "3700 (92.50%) Train loss: 0.249 \t Validation loss: 1.241\n",
      "3710 (92.75%) Train loss: 0.248 \t Validation loss: 1.242\n",
      "3720 (93.00%) Train loss: 0.248 \t Validation loss: 1.242\n",
      "3730 (93.25%) Train loss: 0.248 \t Validation loss: 1.242\n",
      "3740 (93.50%) Train loss: 0.248 \t Validation loss: 1.242\n",
      "3750 (93.75%) Train loss: 0.247 \t Validation loss: 1.243\n",
      "3760 (94.00%) Train loss: 0.247 \t Validation loss: 1.243\n",
      "3770 (94.25%) Train loss: 0.247 \t Validation loss: 1.243\n",
      "3780 (94.50%) Train loss: 0.246 \t Validation loss: 1.244\n",
      "3790 (94.75%) Train loss: 0.246 \t Validation loss: 1.244\n",
      "3800 (95.00%) Train loss: 0.246 \t Validation loss: 1.244\n",
      "3810 (95.25%) Train loss: 0.246 \t Validation loss: 1.244\n",
      "3820 (95.50%) Train loss: 0.245 \t Validation loss: 1.245\n",
      "3830 (95.75%) Train loss: 0.245 \t Validation loss: 1.245\n",
      "3840 (96.00%) Train loss: 0.245 \t Validation loss: 1.245\n",
      "3850 (96.25%) Train loss: 0.244 \t Validation loss: 1.246\n",
      "3860 (96.50%) Train loss: 0.244 \t Validation loss: 1.246\n",
      "3870 (96.75%) Train loss: 0.244 \t Validation loss: 1.246\n",
      "3880 (97.00%) Train loss: 0.244 \t Validation loss: 1.247\n",
      "3890 (97.25%) Train loss: 0.243 \t Validation loss: 1.247\n",
      "3900 (97.50%) Train loss: 0.243 \t Validation loss: 1.247\n",
      "3910 (97.75%) Train loss: 0.243 \t Validation loss: 1.248\n",
      "3920 (98.00%) Train loss: 0.243 \t Validation loss: 1.248\n",
      "3930 (98.25%) Train loss: 0.242 \t Validation loss: 1.248\n",
      "3940 (98.50%) Train loss: 0.242 \t Validation loss: 1.249\n",
      "3950 (98.75%) Train loss: 0.242 \t Validation loss: 1.249\n",
      "3960 (99.00%) Train loss: 0.242 \t Validation loss: 1.249\n",
      "3970 (99.25%) Train loss: 0.241 \t Validation loss: 1.249\n",
      "3980 (99.50%) Train loss: 0.241 \t Validation loss: 1.250\n",
      "3990 (99.75%) Train loss: 0.241 \t Validation loss: 1.250\n"
     ]
    },
    {
     "data": {
      "image/png": "[encoded data removed]",
      "text/plain": [
       "<Figure size 432x288 with 1 Axes>"
      ]
     },
     "metadata": {
      "needs_background": "light"
     },
     "output_type": "display_data"
    },
    {
     "name": "stdout",
     "output_type": "stream",
     "text": [
      "Test loss:  1.044\n"
     ]
    },
    {
     "data": {
      "image/png": "[encoded data removed]",
      "text/plain": [
       "<Figure size 432x288 with 1 Axes>"
      ]
     },
     "metadata": {
      "needs_background": "light"
     },
     "output_type": "display_data"
    }
   ],
   "source": [
    "# Insert your code for getting overfitting, underfitting and just right fitting\n",
    "print(\"Overfitting can be caused by insufficient training data, too complex NN, and even overtraining (if the NN was able to 'learn' the general features but we run even more epochs, \\nit can 'fixate' on the training data rather than a general overview and basically memorize the inputs)\\n\")\n",
    "x_train_over, y_train_over,  x_validation_over, y_validation_over, x_test_over, y_test_over = data_generator(noise=0.5, n_samples=30, D1=D1)\n",
    "x_train_over = nparray_to_Var(x_train_over)\n",
    "y_train_over = nparray_to_Var(y_train_over)\n",
    "x_validation_over = nparray_to_Var(x_validation_over)\n",
    "y_validation_over = nparray_to_Var(y_validation_over)\n",
    "x_test_over = nparray_to_Var(x_test_over)\n",
    "y_test_over = nparray_to_Var(y_test_over)\n",
    "\n",
    "NN_over = [\n",
    "    DenseLayer(1, 8, lambda x: x.relu()),\n",
    "    DenseLayer(8, 1, lambda x: x.identity())\n",
    "]\n",
    "\n",
    "fit_model(4000, 2e-4, NN_over, y_train_over, x_train_over, y_validation_over, x_validation_over, y_test_over, x_test_over)"
   ]
  },
  {
   "cell_type": "code",
   "execution_count": null,
   "metadata": {
    "colab": {
     "base_uri": "https://localhost:8080/",
     "height": 903
    },
    "executionInfo": {
     "elapsed": 3856,
     "status": "ok",
     "timestamp": 1631468844623,
     "user": {
      "displayName": "Krupinszki Balázs",
      "photoUrl": "",
      "userId": "06787498654363362395"
     },
     "user_tz": -120
    },
    "id": "Oqtx6SCXnX_f",
    "outputId": "fbfce6b8-75bc-46a6-9fc8-69aa856c8226",
    "scrolled": true
   },
   "outputs": [
    {
     "name": "stdout",
     "output_type": "stream",
     "text": [
      "   0 ( 0.00%) Train loss: 79.428 \t Validation loss: 70.667\n",
      "  10 ( 5.00%) Train loss: 45.770 \t Validation loss: 43.913\n",
      "  20 (10.00%) Train loss: 33.793 \t Validation loss: 34.043\n",
      "  30 (15.00%) Train loss: 28.260 \t Validation loss: 29.388\n",
      "  40 (20.00%) Train loss: 25.194 \t Validation loss: 26.793\n",
      "  50 (25.00%) Train loss: 23.287 \t Validation loss: 25.182\n",
      "  60 (30.00%) Train loss: 22.005 \t Validation loss: 24.108\n",
      "  70 (35.00%) Train loss: 21.093 \t Validation loss: 23.353\n",
      "  80 (40.00%) Train loss: 20.418 \t Validation loss: 22.801\n",
      "  90 (45.00%) Train loss: 19.902 \t Validation loss: 22.386\n",
      " 100 (50.00%) Train loss: 19.497 \t Validation loss: 22.067\n",
      " 110 (55.00%) Train loss: 19.173 \t Validation loss: 21.816\n",
      " 120 (60.00%) Train loss: 18.909 \t Validation loss: 21.617\n",
      " 130 (65.00%) Train loss: 18.691 \t Validation loss: 21.456\n",
      " 140 (70.00%) Train loss: 18.508 \t Validation loss: 21.324\n",
      " 150 (75.00%) Train loss: 18.354 \t Validation loss: 21.216\n",
      " 160 (80.00%) Train loss: 18.223 \t Validation loss: 21.126\n",
      " 170 (85.00%) Train loss: 18.110 \t Validation loss: 21.052\n",
      " 180 (90.00%) Train loss: 18.012 \t Validation loss: 20.989\n",
      " 190 (95.00%) Train loss: 17.926 \t Validation loss: 20.936\n"
     ]
    },
    {
     "data": {
      "image/png": "[encoded data removed]",
      "text/plain": [
       "<Figure size 432x288 with 1 Axes>"
      ]
     },
     "metadata": {
      "needs_background": "light"
     },
     "output_type": "display_data"
    },
    {
     "name": "stdout",
     "output_type": "stream",
     "text": [
      "Test loss:  16.853\n"
     ]
    },
    {
     "data": {
      "image/png": "[encoded data removed]",
      "text/plain": [
       "<Figure size 432x288 with 1 Axes>"
      ]
     },
     "metadata": {
      "needs_background": "light"
     },
     "output_type": "display_data"
    }
   ],
   "source": [
    "x_train_under, y_train_under,  x_validation_under, y_validation_under, x_test_under, y_test_under = data_generator(noise=0.5, n_samples=300, D1=D1)\n",
    "x_train_under = nparray_to_Var(x_train_under)\n",
    "y_train_under = nparray_to_Var(y_train_under)\n",
    "x_validation_under = nparray_to_Var(x_validation_under)\n",
    "y_validation_under = nparray_to_Var(y_validation_under)\n",
    "x_test_under = nparray_to_Var(x_test_under)\n",
    "y_test_under = nparray_to_Var(y_test_under)\n",
    "\n",
    "NN_under = [\n",
    "    DenseLayer(1, 1, lambda x: x.tanh()),\n",
    "]\n",
    "\n",
    "fit_model(200, 2e-4, NN_under, y_train_under, x_train_under, y_validation_under, x_validation_under, y_test_under, x_test_under)"
   ]
  },
  {
   "cell_type": "code",
   "execution_count": null,
   "metadata": {
    "colab": {
     "base_uri": "https://localhost:8080/",
     "height": 1000
    },
    "executionInfo": {
     "elapsed": 82978,
     "status": "ok",
     "timestamp": 1631469281641,
     "user": {
      "displayName": "Krupinszki Balázs",
      "photoUrl": "",
      "userId": "06787498654363362395"
     },
     "user_tz": -120
    },
    "id": "55d857HBqjZM",
    "outputId": "9e0fb52d-419f-4ec9-e3b6-e8ff2a529beb"
   },
   "outputs": [
    {
     "name": "stdout",
     "output_type": "stream",
     "text": [
      "   0 ( 0.00%) Train loss: 155.383 \t Validation loss: 145.854\n",
      "  10 ( 0.50%) Train loss: 87.013 \t Validation loss: 91.618\n",
      "  20 ( 1.00%) Train loss: 44.243 \t Validation loss: 45.277\n",
      "  30 ( 1.50%) Train loss: 15.614 \t Validation loss: 16.139\n",
      "  40 ( 2.00%) Train loss: 13.087 \t Validation loss: 12.707\n",
      "  50 ( 2.50%) Train loss: 12.238 \t Validation loss: 11.595\n",
      "  60 ( 3.00%) Train loss: 11.640 \t Validation loss: 10.872\n",
      "  70 ( 3.50%) Train loss: 11.236 \t Validation loss: 10.388\n",
      "  80 ( 4.00%) Train loss: 10.976 \t Validation loss: 10.075\n",
      "  90 ( 4.50%) Train loss: 10.815 \t Validation loss: 9.876\n",
      " 100 ( 5.00%) Train loss: 10.718 \t Validation loss: 9.752\n",
      " 110 ( 5.50%) Train loss: 10.661 \t Validation loss: 9.675\n",
      " 120 ( 6.00%) Train loss: 10.628 \t Validation loss: 9.626\n",
      " 130 ( 6.50%) Train loss: 10.609 \t Validation loss: 9.595\n",
      " 140 ( 7.00%) Train loss: 10.598 \t Validation loss: 9.575\n",
      " 150 ( 7.50%) Train loss: 10.592 \t Validation loss: 9.562\n",
      " 160 ( 8.00%) Train loss: 10.588 \t Validation loss: 9.553\n",
      " 170 ( 8.50%) Train loss: 10.586 \t Validation loss: 9.547\n",
      " 180 ( 9.00%) Train loss: 10.584 \t Validation loss: 9.543\n",
      " 190 ( 9.50%) Train loss: 10.583 \t Validation loss: 9.539\n",
      " 200 (10.00%) Train loss: 10.583 \t Validation loss: 9.537\n",
      " 210 (10.50%) Train loss: 10.582 \t Validation loss: 9.535\n",
      " 220 (11.00%) Train loss: 10.582 \t Validation loss: 9.534\n",
      " 230 (11.50%) Train loss: 10.582 \t Validation loss: 9.532\n",
      " 240 (12.00%) Train loss: 10.581 \t Validation loss: 9.531\n",
      " 250 (12.50%) Train loss: 10.581 \t Validation loss: 9.530\n",
      " 260 (13.00%) Train loss: 10.581 \t Validation loss: 9.529\n",
      " 270 (13.50%) Train loss: 10.581 \t Validation loss: 9.529\n",
      " 280 (14.00%) Train loss: 10.580 \t Validation loss: 9.528\n",
      " 290 (14.50%) Train loss: 10.580 \t Validation loss: 9.527\n",
      " 300 (15.00%) Train loss: 10.580 \t Validation loss: 9.527\n",
      " 310 (15.50%) Train loss: 10.580 \t Validation loss: 9.526\n",
      " 320 (16.00%) Train loss: 10.579 \t Validation loss: 9.526\n",
      " 330 (16.50%) Train loss: 10.579 \t Validation loss: 9.525\n",
      " 340 (17.00%) Train loss: 10.579 \t Validation loss: 9.524\n",
      " 350 (17.50%) Train loss: 10.579 \t Validation loss: 9.524\n",
      " 360 (18.00%) Train loss: 10.578 \t Validation loss: 9.523\n",
      " 370 (18.50%) Train loss: 10.578 \t Validation loss: 9.523\n",
      " 380 (19.00%) Train loss: 10.578 \t Validation loss: 9.522\n",
      " 390 (19.50%) Train loss: 10.578 \t Validation loss: 9.522\n",
      " 400 (20.00%) Train loss: 10.577 \t Validation loss: 9.521\n",
      " 410 (20.50%) Train loss: 10.577 \t Validation loss: 9.521\n",
      " 420 (21.00%) Train loss: 10.577 \t Validation loss: 9.520\n",
      " 430 (21.50%) Train loss: 10.577 \t Validation loss: 9.520\n",
      " 440 (22.00%) Train loss: 10.576 \t Validation loss: 9.519\n",
      " 450 (22.50%) Train loss: 10.576 \t Validation loss: 9.518\n",
      " 460 (23.00%) Train loss: 10.576 \t Validation loss: 9.518\n",
      " 470 (23.50%) Train loss: 10.576 \t Validation loss: 9.517\n",
      " 480 (24.00%) Train loss: 10.575 \t Validation loss: 9.517\n",
      " 490 (24.50%) Train loss: 10.575 \t Validation loss: 9.516\n",
      " 500 (25.00%) Train loss: 10.575 \t Validation loss: 9.516\n",
      " 510 (25.50%) Train loss: 10.575 \t Validation loss: 9.515\n",
      " 520 (26.00%) Train loss: 10.575 \t Validation loss: 9.515\n",
      " 530 (26.50%) Train loss: 10.574 \t Validation loss: 9.514\n",
      " 540 (27.00%) Train loss: 10.574 \t Validation loss: 9.514\n",
      " 550 (27.50%) Train loss: 10.574 \t Validation loss: 9.513\n",
      " 560 (28.00%) Train loss: 10.574 \t Validation loss: 9.513\n",
      " 570 (28.50%) Train loss: 10.573 \t Validation loss: 9.512\n",
      " 580 (29.00%) Train loss: 10.573 \t Validation loss: 9.512\n",
      " 590 (29.50%) Train loss: 10.573 \t Validation loss: 9.512\n",
      " 600 (30.00%) Train loss: 10.573 \t Validation loss: 9.511\n",
      " 610 (30.50%) Train loss: 10.573 \t Validation loss: 9.511\n",
      " 620 (31.00%) Train loss: 10.572 \t Validation loss: 9.510\n",
      " 630 (31.50%) Train loss: 10.572 \t Validation loss: 9.510\n",
      " 640 (32.00%) Train loss: 10.572 \t Validation loss: 9.509\n",
      " 650 (32.50%) Train loss: 10.572 \t Validation loss: 9.509\n",
      " 660 (33.00%) Train loss: 10.572 \t Validation loss: 9.508\n",
      " 670 (33.50%) Train loss: 10.571 \t Validation loss: 9.508\n",
      " 680 (34.00%) Train loss: 10.571 \t Validation loss: 9.507\n",
      " 690 (34.50%) Train loss: 10.571 \t Validation loss: 9.507\n",
      " 700 (35.00%) Train loss: 10.571 \t Validation loss: 9.506\n",
      " 710 (35.50%) Train loss: 10.571 \t Validation loss: 9.506\n",
      " 720 (36.00%) Train loss: 10.570 \t Validation loss: 9.505\n",
      " 730 (36.50%) Train loss: 10.570 \t Validation loss: 9.505\n",
      " 740 (37.00%) Train loss: 10.570 \t Validation loss: 9.505\n",
      " 750 (37.50%) Train loss: 10.570 \t Validation loss: 9.504\n",
      " 760 (38.00%) Train loss: 10.570 \t Validation loss: 9.504\n",
      " 770 (38.50%) Train loss: 10.569 \t Validation loss: 9.503\n",
      " 780 (39.00%) Train loss: 10.569 \t Validation loss: 9.503\n",
      " 790 (39.50%) Train loss: 10.569 \t Validation loss: 9.502\n",
      " 800 (40.00%) Train loss: 10.569 \t Validation loss: 9.502\n",
      " 810 (40.50%) Train loss: 10.569 \t Validation loss: 9.502\n",
      " 820 (41.00%) Train loss: 10.569 \t Validation loss: 9.501\n",
      " 830 (41.50%) Train loss: 10.568 \t Validation loss: 9.501\n",
      " 840 (42.00%) Train loss: 10.568 \t Validation loss: 9.500\n",
      " 850 (42.50%) Train loss: 10.568 \t Validation loss: 9.500\n",
      " 860 (43.00%) Train loss: 10.568 \t Validation loss: 9.499\n",
      " 870 (43.50%) Train loss: 10.568 \t Validation loss: 9.499\n",
      " 880 (44.00%) Train loss: 10.568 \t Validation loss: 9.499\n",
      " 890 (44.50%) Train loss: 10.567 \t Validation loss: 9.498\n",
      " 900 (45.00%) Train loss: 10.567 \t Validation loss: 9.498\n",
      " 910 (45.50%) Train loss: 10.567 \t Validation loss: 9.497\n",
      " 920 (46.00%) Train loss: 10.567 \t Validation loss: 9.497\n",
      " 930 (46.50%) Train loss: 10.567 \t Validation loss: 9.497\n",
      " 940 (47.00%) Train loss: 10.566 \t Validation loss: 9.496\n",
      " 950 (47.50%) Train loss: 10.566 \t Validation loss: 9.496\n",
      " 960 (48.00%) Train loss: 10.566 \t Validation loss: 9.495\n",
      " 970 (48.50%) Train loss: 10.566 \t Validation loss: 9.495\n",
      " 980 (49.00%) Train loss: 10.566 \t Validation loss: 9.495\n",
      " 990 (49.50%) Train loss: 10.566 \t Validation loss: 9.494\n",
      "1000 (50.00%) Train loss: 10.566 \t Validation loss: 9.494\n",
      "1010 (50.50%) Train loss: 10.565 \t Validation loss: 9.493\n",
      "1020 (51.00%) Train loss: 10.565 \t Validation loss: 9.493\n",
      "1030 (51.50%) Train loss: 10.565 \t Validation loss: 9.493\n",
      "1040 (52.00%) Train loss: 10.565 \t Validation loss: 9.492\n",
      "1050 (52.50%) Train loss: 10.565 \t Validation loss: 9.492\n",
      "1060 (53.00%) Train loss: 10.565 \t Validation loss: 9.491\n",
      "1070 (53.50%) Train loss: 10.564 \t Validation loss: 9.491\n",
      "1080 (54.00%) Train loss: 10.564 \t Validation loss: 9.491\n",
      "1090 (54.50%) Train loss: 10.564 \t Validation loss: 9.490\n",
      "1100 (55.00%) Train loss: 10.564 \t Validation loss: 9.490\n",
      "1110 (55.50%) Train loss: 10.564 \t Validation loss: 9.490\n",
      "1120 (56.00%) Train loss: 10.564 \t Validation loss: 9.489\n",
      "1130 (56.50%) Train loss: 10.564 \t Validation loss: 9.489\n",
      "1140 (57.00%) Train loss: 10.563 \t Validation loss: 9.489\n",
      "1150 (57.50%) Train loss: 10.563 \t Validation loss: 9.488\n",
      "1160 (58.00%) Train loss: 10.563 \t Validation loss: 9.488\n",
      "1170 (58.50%) Train loss: 10.563 \t Validation loss: 9.487\n",
      "1180 (59.00%) Train loss: 10.563 \t Validation loss: 9.487\n",
      "1190 (59.50%) Train loss: 10.563 \t Validation loss: 9.487\n",
      "1200 (60.00%) Train loss: 10.563 \t Validation loss: 9.486\n",
      "1210 (60.50%) Train loss: 10.562 \t Validation loss: 9.486\n",
      "1220 (61.00%) Train loss: 10.562 \t Validation loss: 9.486\n",
      "1230 (61.50%) Train loss: 10.562 \t Validation loss: 9.485\n",
      "1240 (62.00%) Train loss: 10.562 \t Validation loss: 9.485\n",
      "1250 (62.50%) Train loss: 10.562 \t Validation loss: 9.485\n",
      "1260 (63.00%) Train loss: 10.562 \t Validation loss: 9.484\n",
      "1270 (63.50%) Train loss: 10.562 \t Validation loss: 9.484\n",
      "1280 (64.00%) Train loss: 10.562 \t Validation loss: 9.484\n",
      "1290 (64.50%) Train loss: 10.561 \t Validation loss: 9.483\n",
      "1300 (65.00%) Train loss: 10.561 \t Validation loss: 9.483\n",
      "1310 (65.50%) Train loss: 10.561 \t Validation loss: 9.483\n",
      "1320 (66.00%) Train loss: 10.561 \t Validation loss: 9.482\n",
      "1330 (66.50%) Train loss: 10.561 \t Validation loss: 9.482\n",
      "1340 (67.00%) Train loss: 10.561 \t Validation loss: 9.482\n",
      "1350 (67.50%) Train loss: 10.561 \t Validation loss: 9.481\n",
      "1360 (68.00%) Train loss: 10.561 \t Validation loss: 9.481\n",
      "1370 (68.50%) Train loss: 10.560 \t Validation loss: 9.481\n",
      "1380 (69.00%) Train loss: 10.560 \t Validation loss: 9.481\n",
      "1390 (69.50%) Train loss: 10.560 \t Validation loss: 9.480\n",
      "1400 (70.00%) Train loss: 10.560 \t Validation loss: 9.480\n",
      "1410 (70.50%) Train loss: 10.560 \t Validation loss: 9.480\n",
      "1420 (71.00%) Train loss: 10.560 \t Validation loss: 9.479\n",
      "1430 (71.50%) Train loss: 10.560 \t Validation loss: 9.479\n",
      "1440 (72.00%) Train loss: 10.560 \t Validation loss: 9.479\n",
      "1450 (72.50%) Train loss: 10.560 \t Validation loss: 9.478\n",
      "1460 (73.00%) Train loss: 10.559 \t Validation loss: 9.478\n",
      "1470 (73.50%) Train loss: 10.559 \t Validation loss: 9.478\n",
      "1480 (74.00%) Train loss: 10.559 \t Validation loss: 9.477\n",
      "1490 (74.50%) Train loss: 10.559 \t Validation loss: 9.477\n",
      "1500 (75.00%) Train loss: 10.559 \t Validation loss: 9.477\n",
      "1510 (75.50%) Train loss: 10.559 \t Validation loss: 9.477\n",
      "1520 (76.00%) Train loss: 10.559 \t Validation loss: 9.476\n",
      "1530 (76.50%) Train loss: 10.559 \t Validation loss: 9.476\n",
      "1540 (77.00%) Train loss: 10.559 \t Validation loss: 9.476\n",
      "1550 (77.50%) Train loss: 10.559 \t Validation loss: 9.475\n",
      "1560 (78.00%) Train loss: 10.558 \t Validation loss: 9.475\n",
      "1570 (78.50%) Train loss: 10.558 \t Validation loss: 9.475\n",
      "1580 (79.00%) Train loss: 10.558 \t Validation loss: 9.475\n",
      "1590 (79.50%) Train loss: 10.558 \t Validation loss: 9.474\n",
      "1600 (80.00%) Train loss: 10.558 \t Validation loss: 9.474\n",
      "1610 (80.50%) Train loss: 10.558 \t Validation loss: 9.474\n",
      "1620 (81.00%) Train loss: 10.558 \t Validation loss: 9.474\n",
      "1630 (81.50%) Train loss: 10.558 \t Validation loss: 9.473\n",
      "1640 (82.00%) Train loss: 10.558 \t Validation loss: 9.473\n",
      "1650 (82.50%) Train loss: 10.558 \t Validation loss: 9.473\n",
      "1660 (83.00%) Train loss: 10.558 \t Validation loss: 9.473\n",
      "1670 (83.50%) Train loss: 10.557 \t Validation loss: 9.472\n",
      "1680 (84.00%) Train loss: 10.557 \t Validation loss: 9.472\n",
      "1690 (84.50%) Train loss: 10.557 \t Validation loss: 9.472\n",
      "1700 (85.00%) Train loss: 10.557 \t Validation loss: 9.471\n",
      "1710 (85.50%) Train loss: 10.557 \t Validation loss: 9.471\n",
      "1720 (86.00%) Train loss: 10.557 \t Validation loss: 9.471\n",
      "1730 (86.50%) Train loss: 10.557 \t Validation loss: 9.471\n",
      "1740 (87.00%) Train loss: 10.557 \t Validation loss: 9.470\n",
      "1750 (87.50%) Train loss: 10.557 \t Validation loss: 9.470\n",
      "1760 (88.00%) Train loss: 10.557 \t Validation loss: 9.470\n",
      "1770 (88.50%) Train loss: 10.557 \t Validation loss: 9.470\n",
      "1780 (89.00%) Train loss: 10.556 \t Validation loss: 9.469\n",
      "1790 (89.50%) Train loss: 10.556 \t Validation loss: 9.469\n",
      "1800 (90.00%) Train loss: 10.556 \t Validation loss: 9.469\n",
      "1810 (90.50%) Train loss: 10.556 \t Validation loss: 9.469\n",
      "1820 (91.00%) Train loss: 10.556 \t Validation loss: 9.469\n",
      "1830 (91.50%) Train loss: 10.556 \t Validation loss: 9.468\n",
      "1840 (92.00%) Train loss: 10.556 \t Validation loss: 9.468\n",
      "1850 (92.50%) Train loss: 10.556 \t Validation loss: 9.468\n",
      "1860 (93.00%) Train loss: 10.556 \t Validation loss: 9.468\n",
      "1870 (93.50%) Train loss: 10.556 \t Validation loss: 9.467\n",
      "1880 (94.00%) Train loss: 10.556 \t Validation loss: 9.467\n",
      "1890 (94.50%) Train loss: 10.556 \t Validation loss: 9.467\n",
      "1900 (95.00%) Train loss: 10.556 \t Validation loss: 9.467\n",
      "1910 (95.50%) Train loss: 10.555 \t Validation loss: 9.466\n",
      "1920 (96.00%) Train loss: 10.555 \t Validation loss: 9.466\n",
      "1930 (96.50%) Train loss: 10.555 \t Validation loss: 9.466\n",
      "1940 (97.00%) Train loss: 10.555 \t Validation loss: 9.466\n",
      "1950 (97.50%) Train loss: 10.555 \t Validation loss: 9.466\n",
      "1960 (98.00%) Train loss: 10.555 \t Validation loss: 9.465\n",
      "1970 (98.50%) Train loss: 10.555 \t Validation loss: 9.465\n",
      "1980 (99.00%) Train loss: 10.555 \t Validation loss: 9.465\n",
      "1990 (99.50%) Train loss: 10.555 \t Validation loss: 9.465\n"
     ]
    },
    {
     "data": {
      "image/png": "[encoded data removed]",
      "text/plain": [
       "<Figure size 432x288 with 1 Axes>"
      ]
     },
     "metadata": {
      "needs_background": "light"
     },
     "output_type": "display_data"
    },
    {
     "name": "stdout",
     "output_type": "stream",
     "text": [
      "Test loss:  5.266\n"
     ]
    },
    {
     "data": {
      "image/png": "[encoded data removed]",
      "text/plain": [
       "<Figure size 432x288 with 1 Axes>"
      ]
     },
     "metadata": {
      "needs_background": "light"
     },
     "output_type": "display_data"
    }
   ],
   "source": [
    "x_train_right, y_train_right,  x_validation_right, y_validation_right, x_test_right, y_test_right = data_generator(noise=0.5, n_samples=300, D1=D1)\n",
    "x_train_right = nparray_to_Var(x_train_right)\n",
    "y_train_right = nparray_to_Var(y_train_right)\n",
    "x_validation_right = nparray_to_Var(x_validation_right)\n",
    "y_validation_right = nparray_to_Var(y_validation_right)\n",
    "x_test_right = nparray_to_Var(x_test_right)\n",
    "y_test_right = nparray_to_Var(y_test_right)\n",
    "\n",
    "NN_right = [\n",
    "    DenseLayer(1, 3, lambda x: x.exp()),\n",
    "    DenseLayer(3, 1, lambda x: x.identity()),\n",
    "]\n",
    "\n",
    "fit_model(2000, 4e-4, NN_right, y_train_right, x_train_right, y_validation_right, x_validation_right, y_test_right, x_test_right)"
   ]
  },
  {
   "cell_type": "markdown",
   "metadata": {
    "id": "fYPZP-eTFtIo"
   },
   "source": [
    "# Next steps - classification\n",
    "\n",
    "It is straight forward to extend what we have done to classification. \n",
    "\n",
    "For numerical stability it is better to make softmax and cross-entropy as one function so we write the cross entropy loss as a function of the logits we talked about last week. \n",
    "\n",
    "Next week we will see how to perform classification in PyTorch."
   ]
  },
  {
   "cell_type": "markdown",
   "metadata": {
    "id": "qsVPul3QFtIo"
   },
   "source": [
    "## Exercise l) optional - Implement backpropagation for classification\n",
    "\n",
    "Should be possible with very few lines of code. :-)"
   ]
  },
  {
   "cell_type": "code",
   "execution_count": null,
   "metadata": {
    "collapsed": true,
    "id": "oC8QrI2tFtIp"
   },
   "outputs": [],
   "source": [
    "# Just add code."
   ]
  },
  {
   "cell_type": "markdown",
   "metadata": {
    "id": "APqhJv3tta1O"
   },
   "source": [
    "## Exercise m) optional - Introduce a NeuralNetwork class\n",
    "\n",
    "The functions we applied on the neural network (parameters, update_parameters and zero_gradients) can more naturally be included as methods in a NeuralNetwork class. Make such a class and modify the code to use it. "
   ]
  },
  {
   "cell_type": "code",
   "execution_count": null,
   "metadata": {
    "id": "Dqfnor1ouMLq"
   },
   "outputs": [],
   "source": [
    "# just add some code"
   ]
  }
 ],
 "metadata": {
  "anaconda-cloud": {},
  "colab": {
   "name": "2.1-FNN-AutoDif-Nanograd.ipynb",
   "provenance": []
  },
  "kernelspec": {
   "display_name": "Python 3",
   "language": "python",
   "name": "python3"
  },
  "language_info": {
   "codemirror_mode": {
    "name": "ipython",
    "version": 3
   },
   "file_extension": ".py",
   "mimetype": "text/x-python",
   "name": "python",
   "nbconvert_exporter": "python",
   "pygments_lexer": "ipython3",
   "version": "3.8.3"
  }
 },
 "nbformat": 4,
 "nbformat_minor": 1
}
